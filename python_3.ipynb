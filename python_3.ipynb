{
 "cells": [
  {
   "cell_type": "code",
   "execution_count": 5,
   "metadata": {},
   "outputs": [],
   "source": [
    "import json"
   ]
  },
  {
   "cell_type": "markdown",
   "metadata": {},
   "source": [
    "### Apriamo un file json con tutti i risultati del campionato di seria A 2015/16"
   ]
  },
  {
   "cell_type": "code",
   "execution_count": 6,
   "metadata": {},
   "outputs": [],
   "source": [
    "fp = open('datasets/serie_A/2015-16.json')\n",
    "campionato = json.load(fp)"
   ]
  },
  {
   "cell_type": "markdown",
   "metadata": {},
   "source": [
    "### Ispezioniamo il contenuto \"trasformato\" in strutture dati Python"
   ]
  },
  {
   "cell_type": "code",
   "execution_count": null,
   "metadata": {},
   "outputs": [],
   "source": [
    "type(campionato)"
   ]
  },
  {
   "cell_type": "code",
   "execution_count": null,
   "metadata": {},
   "outputs": [],
   "source": [
    "campionato.keys()"
   ]
  },
  {
   "cell_type": "code",
   "execution_count": null,
   "metadata": {},
   "outputs": [],
   "source": [
    "campionato['name']"
   ]
  },
  {
   "cell_type": "code",
   "execution_count": null,
   "metadata": {},
   "outputs": [],
   "source": [
    "type(campionato['rounds'])"
   ]
  },
  {
   "cell_type": "code",
   "execution_count": null,
   "metadata": {},
   "outputs": [],
   "source": [
    "len(campionato['rounds'])"
   ]
  },
  {
   "cell_type": "code",
   "execution_count": null,
   "metadata": {},
   "outputs": [],
   "source": [
    "prima_giornata = campionato['rounds'][0]"
   ]
  },
  {
   "cell_type": "code",
   "execution_count": null,
   "metadata": {},
   "outputs": [],
   "source": [
    "type(prima_giornata)"
   ]
  },
  {
   "cell_type": "code",
   "execution_count": null,
   "metadata": {},
   "outputs": [],
   "source": [
    "campionato['rounds'][0].keys()"
   ]
  },
  {
   "cell_type": "code",
   "execution_count": null,
   "metadata": {},
   "outputs": [],
   "source": [
    "campionato['rounds'][0]['name']"
   ]
  },
  {
   "cell_type": "code",
   "execution_count": null,
   "metadata": {},
   "outputs": [],
   "source": [
    "type(campionato['rounds'][0]['matches'])"
   ]
  },
  {
   "cell_type": "code",
   "execution_count": null,
   "metadata": {},
   "outputs": [],
   "source": [
    "partita1 = campionato['rounds'][0]['matches'][0]"
   ]
  },
  {
   "cell_type": "code",
   "execution_count": null,
   "metadata": {},
   "outputs": [],
   "source": [
    "type(partita1)"
   ]
  },
  {
   "cell_type": "code",
   "execution_count": null,
   "metadata": {},
   "outputs": [],
   "source": [
    "partita1.keys()"
   ]
  },
  {
   "cell_type": "code",
   "execution_count": null,
   "metadata": {},
   "outputs": [],
   "source": [
    "partita1"
   ]
  },
  {
   "cell_type": "markdown",
   "metadata": {},
   "source": [
    "### Abbiamo la struttura\n",
    "1. Un campionato è un dizionario con il nome (una stringa) e la lista delle giornate\n",
    "2. Una giornata (un elemento della lista) è a sua volta un dizionario con il nome (1^ giornata, 2^ giornata, ....) e la lista degli incontri\n",
    "3. Un incontro è un dizionario con 5 voci: \n",
    "   1. data (in cui si dell'incontro), \n",
    "   2. team1 (squadra di casa)\n",
    "   3. team2 (squadra ospite)\n",
    "   4. score1 (goal segnati dalla squadra di casa)\n",
    "   5. score2 (goal segnati dalla squadra ospite)\n",
    "4. Team1 e team2 sono a loro volta dei dizionari"
   ]
  },
  {
   "cell_type": "markdown",
   "metadata": {},
   "source": [
    "### Proviamo innanzitutto a stampare (in modo \"pulito\") il programma della giornata"
   ]
  },
  {
   "cell_type": "code",
   "execution_count": null,
   "metadata": {},
   "outputs": [],
   "source": [
    "for partita in campionato['rounds'][0]['matches']:\n",
    "    print(partita['team1']['name'],'-',partita['team2']['name'])"
   ]
  },
  {
   "cell_type": "markdown",
   "metadata": {},
   "source": [
    "### Primo obiettivo: ottenere una lista di coppie (codiceprogressivo,nomesquadra), con tutte le squadre partecipanti"
   ]
  },
  {
   "cell_type": "markdown",
   "metadata": {},
   "source": [
    "#### Soluzioni non-pythoniche"
   ]
  },
  {
   "cell_type": "code",
   "execution_count": null,
   "metadata": {},
   "outputs": [],
   "source": [
    "i = 0 # il codice parte da i+1\n",
    "\n",
    "squadre_partecipanti = []\n",
    "for partita in campionato['rounds'][0]['matches']:\n",
    "    i += 1\n",
    "    squadre_partecipanti.append((i, partita['team1']['name']))\n",
    "    i += 1\n",
    "    squadre_partecipanti.append((i, partita['team2']['name']))"
   ]
  },
  {
   "cell_type": "code",
   "execution_count": null,
   "metadata": {},
   "outputs": [],
   "source": [
    "squadre_partecipanti"
   ]
  },
  {
   "cell_type": "markdown",
   "metadata": {},
   "source": [
    "#### Un po' meglio ma sempre non pythonica"
   ]
  },
  {
   "cell_type": "code",
   "execution_count": null,
   "metadata": {},
   "outputs": [],
   "source": [
    "def sq(partita, i):\n",
    "    return [(i, partita['team1']['name']),(i+1, partita['team2']['name'])]"
   ]
  },
  {
   "cell_type": "code",
   "execution_count": null,
   "metadata": {},
   "outputs": [],
   "source": [
    "sq(campionato['rounds'][0]['matches'][0],1)"
   ]
  },
  {
   "cell_type": "code",
   "execution_count": null,
   "metadata": {},
   "outputs": [],
   "source": [
    "squadre_partecipanti = []\n",
    "i = 1\n",
    "for partita in campionato['rounds'][0]['matches']:\n",
    "    squadre_partecipanti += sq(partita, i)\n",
    "    i += 2"
   ]
  },
  {
   "cell_type": "code",
   "execution_count": null,
   "metadata": {},
   "outputs": [],
   "source": [
    "squadre_partecipanti"
   ]
  },
  {
   "cell_type": "markdown",
   "metadata": {},
   "source": [
    "### List comprehension"
   ]
  },
  {
   "cell_type": "markdown",
   "metadata": {},
   "source": [
    "#### Un semplice esempio iniziale"
   ]
  },
  {
   "cell_type": "code",
   "execution_count": null,
   "metadata": {},
   "outputs": [],
   "source": [
    "[i**2 for i in range(10)]"
   ]
  },
  {
   "cell_type": "code",
   "execution_count": 7,
   "metadata": {},
   "outputs": [],
   "source": [
    "partite = [(p['team1']['name'],p['team2']['name']) for p in campionato['rounds'][0]['matches']]"
   ]
  },
  {
   "cell_type": "code",
   "execution_count": null,
   "metadata": {},
   "outputs": [],
   "source": [
    "len(partite)"
   ]
  },
  {
   "cell_type": "code",
   "execution_count": null,
   "metadata": {},
   "outputs": [],
   "source": [
    "partite"
   ]
  },
  {
   "cell_type": "markdown",
   "metadata": {},
   "source": [
    "#### Dobbiamo innanzitutto passare da una lista di coppie (partite) ad una lista (o tupla) con le singole squadre"
   ]
  },
  {
   "cell_type": "markdown",
   "metadata": {},
   "source": [
    "#### Possiamo usare la funzione reduce (pare non amata da Van Rossum)"
   ]
  },
  {
   "cell_type": "markdown",
   "metadata": {},
   "source": [
    "#### reduce ha due parametri: una funzione di \"aggregazione\" dei dati (es: l'addizione intera da due numeri ne restituisce uno, la concatenazione di stringhe da due ne forma una, idem la \"somma\" di due liste....), e una lista di ogetti da \"aggregare\""
   ]
  },
  {
   "cell_type": "code",
   "execution_count": 2,
   "metadata": {},
   "outputs": [],
   "source": [
    "from functools import reduce"
   ]
  },
  {
   "cell_type": "code",
   "execution_count": null,
   "metadata": {},
   "outputs": [],
   "source": [
    "def sum(x,y):\n",
    "    return x+y # + si può applicare, con significati diversi, a diversi tipi di dato ==> operatore overloaded"
   ]
  },
  {
   "cell_type": "code",
   "execution_count": null,
   "metadata": {},
   "outputs": [],
   "source": [
    "reduce(sum,[1,2,3,4,5])"
   ]
  },
  {
   "cell_type": "code",
   "execution_count": null,
   "metadata": {},
   "outputs": [],
   "source": [
    "reduce(sum,['a','b','c','d','e'])"
   ]
  },
  {
   "cell_type": "code",
   "execution_count": null,
   "metadata": {},
   "outputs": [],
   "source": [
    "reduce(sum,[(1,2),(3,4),(5,6),(7,8),(9,10)])"
   ]
  },
  {
   "cell_type": "code",
   "execution_count": null,
   "metadata": {},
   "outputs": [],
   "source": [
    "reduce(sum,([1,2],[3,4],[5,6],[7,8],[9,10]))"
   ]
  },
  {
   "cell_type": "markdown",
   "metadata": {},
   "source": [
    "#### Fare attenzione al tipo di dato restituito negli ultimi due casi"
   ]
  },
  {
   "cell_type": "markdown",
   "metadata": {},
   "source": [
    "#### Per fare l'aggregazione, anziché usare una funzione opportunamente definita \"prima\" (nel nostro caso \"sum\"), possiamo utilizzare una funzione \"anonima\" mediante la \"lambda notation\". Si noti, infatti, che la funzione sum non ha altra utilità al di fuori dell'impiego che ne facciamo nel contesto di reduce. Dunque non serve darle un nome "
   ]
  },
  {
   "cell_type": "code",
   "execution_count": null,
   "metadata": {},
   "outputs": [],
   "source": [
    "reduce(lambda x,y: x+y,[1,2,3,4,5])"
   ]
  },
  {
   "cell_type": "code",
   "execution_count": null,
   "metadata": {},
   "outputs": [],
   "source": [
    "reduce(lambda x,y: x+y, ['a','b','c','d','e'])"
   ]
  },
  {
   "cell_type": "markdown",
   "metadata": {},
   "source": [
    "#### Possiamo ora ottenere l'elenco delle squadre"
   ]
  },
  {
   "cell_type": "code",
   "execution_count": null,
   "metadata": {},
   "outputs": [],
   "source": [
    "elenco_squadre = reduce(lambda x,y: x+y,partite)"
   ]
  },
  {
   "cell_type": "code",
   "execution_count": null,
   "metadata": {},
   "outputs": [],
   "source": [
    "elenco_squadre"
   ]
  },
  {
   "cell_type": "markdown",
   "metadata": {},
   "source": [
    "#### ... e poi il risultato desiderato, usando enumerate (un iteratore che fornisce anche un contatore automatico)"
   ]
  },
  {
   "cell_type": "code",
   "execution_count": null,
   "metadata": {},
   "outputs": [],
   "source": [
    "for index,value in enumerate(['a','b','c']):\n",
    "    print(index,value)"
   ]
  },
  {
   "cell_type": "code",
   "execution_count": null,
   "metadata": {},
   "outputs": [],
   "source": [
    "for index,value in enumerate(['a','b','c'], 15):\n",
    "    print(index,value)"
   ]
  },
  {
   "cell_type": "code",
   "execution_count": 8,
   "metadata": {},
   "outputs": [],
   "source": [
    "squadre = list(enumerate(reduce(lambda x,y: x+y, partite), 1))"
   ]
  },
  {
   "cell_type": "markdown",
   "metadata": {},
   "source": [
    "#### Anche con un solo \"comando\":"
   ]
  },
  {
   "cell_type": "code",
   "execution_count": null,
   "metadata": {},
   "outputs": [],
   "source": [
    "squadre = list(enumerate(reduce(lambda x,y: x+y,[(p['team1']['name'],p['team2']['name']) \\\n",
    "                                       for p in campionato['rounds'][0]['matches']]), 1))"
   ]
  },
  {
   "cell_type": "code",
   "execution_count": 17,
   "metadata": {},
   "outputs": [
    {
     "data": {
      "text/plain": [
       "[(1, 'Verona'),\n",
       " (2, 'Roma'),\n",
       " (3, 'Lazio'),\n",
       " (4, 'Bologna'),\n",
       " (5, 'Juventus'),\n",
       " (6, 'Udinese'),\n",
       " (7, 'Empoli'),\n",
       " (8, 'Chievo'),\n",
       " (9, 'Fiorentina'),\n",
       " (10, 'Milan'),\n",
       " (11, 'Frosinone'),\n",
       " (12, 'Torino'),\n",
       " (13, 'Inter'),\n",
       " (14, 'Atalanta'),\n",
       " (15, 'Palermo'),\n",
       " (16, 'Genoa'),\n",
       " (17, 'Sampdoria'),\n",
       " (18, 'Carpi'),\n",
       " (19, 'Sassuolo'),\n",
       " (20, 'Napoli')]"
      ]
     },
     "execution_count": 17,
     "metadata": {},
     "output_type": "execute_result"
    }
   ],
   "source": [
    "squadre"
   ]
  },
  {
   "cell_type": "markdown",
   "metadata": {},
   "source": [
    "#### La lista è OK per un inserimento in un DB. Per altri scopi ci serve maggiormente un dizionario"
   ]
  },
  {
   "cell_type": "code",
   "execution_count": null,
   "metadata": {},
   "outputs": [],
   "source": [
    "dizSquadre = {}\n",
    "# partite = [(p['team1']['name'],p['team2']['name']) for p in campionato['rounds'][0]['matches']]\n",
    "for id, squadra in enumerate(reduce(lambda x,y: x+y, partite),1):\n",
    "   dizSquadre[squadra] = id"
   ]
  },
  {
   "cell_type": "code",
   "execution_count": null,
   "metadata": {
    "scrolled": true
   },
   "outputs": [],
   "source": [
    "dizSquadre"
   ]
  },
  {
   "cell_type": "markdown",
   "metadata": {},
   "source": [
    "### Vogliamo ora generare una lista di tuple che descriva tutto il calendario\n",
    "### Anche in questo caso le tuple devono contenere un id progressivo\n",
    "### Devono poi contenere il numero di giornata, l'indicazione di andata o ritorno (A/R) e naturalmente gli identificatori delle squadre "
   ]
  },
  {
   "cell_type": "code",
   "execution_count": null,
   "metadata": {},
   "outputs": [],
   "source": [
    "def locali(p):\n",
    "    return p['team1']['name']\n",
    "def ospiti(p):\n",
    "    return p['team2']['name']\n",
    "def retiLocali(p):\n",
    "    return p['score1']\n",
    "def retiOspiti(p):\n",
    "    return p['score2']"
   ]
  },
  {
   "cell_type": "code",
   "execution_count": null,
   "metadata": {},
   "outputs": [],
   "source": [
    "calendario = []\n",
    "risultati = []\n",
    "idCal = 1\n",
    "idRis = 1\n",
    "for numGiornata, giornata in enumerate(campionato['rounds']):\n",
    "    for numPartita, partita in enumerate(giornata['matches']):\n",
    "        sqloc = dizSquadre[locali(partita)]\n",
    "        sqosp = dizSquadre[ospiti(partita)]\n",
    "        offset = numGiornata*10+numPartita\n",
    "        calendario.append((idCal+offset,\\\n",
    "                           numGiornata%19+1,\\\n",
    "                           ['A','R'][numGiornata>18],\\\n",
    "                           sqloc,sqosp))\n",
    "        risultati.append((idRis+offset,\\\n",
    "                         idCal+offset,\n",
    "                         retiLocali(partita),\n",
    "                         retiOspiti(partita)))\n",
    "                         \n",
    "        #print(idIniziale+(i-idIniziale)*10+j,(i-idIniziale)%19+1,['A','R'][(i-idIniziale)>18],h,v)"
   ]
  },
  {
   "cell_type": "code",
   "execution_count": null,
   "metadata": {},
   "outputs": [],
   "source": [
    "calendario[:10]"
   ]
  },
  {
   "cell_type": "code",
   "execution_count": null,
   "metadata": {},
   "outputs": [],
   "source": [
    "risultati[:10]"
   ]
  },
  {
   "cell_type": "code",
   "execution_count": null,
   "metadata": {},
   "outputs": [],
   "source": [
    "campionato['rounds'][0]"
   ]
  },
  {
   "cell_type": "markdown",
   "metadata": {},
   "source": [
    "## Database connection\n",
    "### pip3 install PyMySQL"
   ]
  },
  {
   "cell_type": "code",
   "execution_count": 8,
   "metadata": {},
   "outputs": [],
   "source": [
    "import pymysql"
   ]
  },
  {
   "cell_type": "markdown",
   "metadata": {},
   "source": [
    "### Supponiamo di avere un utente mysql \"testuser\" sul server locale, con password di accesso \"testpasswd\" e tutti i diritti sul db \"testdb\". Il db è inizialmente vuoto"
   ]
  },
  {
   "cell_type": "code",
   "execution_count": 9,
   "metadata": {},
   "outputs": [],
   "source": [
    "db = pymysql.connect(\"localhost\",\"testuser\",\"testpasswd\",\"testdb\" )"
   ]
  },
  {
   "cell_type": "code",
   "execution_count": 10,
   "metadata": {},
   "outputs": [
    {
     "data": {
      "text/plain": [
       "<pymysql.connections.Connection at 0x7f8eac5e3fd0>"
      ]
     },
     "execution_count": 10,
     "metadata": {},
     "output_type": "execute_result"
    }
   ],
   "source": [
    "db"
   ]
  },
  {
   "cell_type": "markdown",
   "metadata": {},
   "source": [
    "### Prepariamo un cursore per l'accesso al db. Un cursore gioca un ruolo analogo ad un iteratore Python: anziché avere tutti i dati in memoria, il cursore consente l'accesso \"pezzo per pezzo\". Si pensi alla differenza fra range() in python 2 e python 3."
   ]
  },
  {
   "cell_type": "code",
   "execution_count": 11,
   "metadata": {},
   "outputs": [],
   "source": [
    "cursor = db.cursor()"
   ]
  },
  {
   "cell_type": "code",
   "execution_count": 12,
   "metadata": {},
   "outputs": [
    {
     "data": {
      "text/plain": [
       "<pymysql.cursors.Cursor at 0x7f8eac50b828>"
      ]
     },
     "execution_count": 12,
     "metadata": {},
     "output_type": "execute_result"
    }
   ],
   "source": [
    "cursor"
   ]
  },
  {
   "cell_type": "markdown",
   "metadata": {},
   "source": [
    "### Creiamo la tabella Squadre, assicurandoci prima che non sia già presente"
   ]
  },
  {
   "cell_type": "code",
   "execution_count": 13,
   "metadata": {},
   "outputs": [],
   "source": [
    "query = \"DROP TABLE IF EXISTS Squadre;\""
   ]
  },
  {
   "cell_type": "code",
   "execution_count": 14,
   "metadata": {},
   "outputs": [
    {
     "name": "stderr",
     "output_type": "stream",
     "text": [
      "/home/mauro/.local/lib/python3.6/site-packages/pymysql/cursors.py:170: Warning: (1051, \"Unknown table 'testdb.Squadre'\")\n",
      "  result = self._query(query)\n"
     ]
    },
    {
     "data": {
      "text/plain": [
       "0"
      ]
     },
     "execution_count": 14,
     "metadata": {},
     "output_type": "execute_result"
    }
   ],
   "source": [
    "cursor.execute(query)"
   ]
  },
  {
   "cell_type": "code",
   "execution_count": 15,
   "metadata": {},
   "outputs": [],
   "source": [
    "query = \"CREATE TABLE Squadre (id INT(11) NOT NULL AUTO_INCREMENT, \" +\\\n",
    "                              \"nome VARCHAR(16) NOT NULL, \" +\\\n",
    "                              \"PRIMARY KEY ( id ));\";"
   ]
  },
  {
   "cell_type": "code",
   "execution_count": 16,
   "metadata": {},
   "outputs": [
    {
     "data": {
      "text/plain": [
       "0"
      ]
     },
     "execution_count": 16,
     "metadata": {},
     "output_type": "execute_result"
    }
   ],
   "source": [
    "cursor.execute(query)"
   ]
  },
  {
   "cell_type": "markdown",
   "metadata": {},
   "source": [
    "### Adesso inseriamo i dati nella tabella Squadre appena creata. Possiamo ripetere la stessa query con i dati provenienti da una lista (o da un enumeratore/iteratore)"
   ]
  },
  {
   "cell_type": "code",
   "execution_count": 18,
   "metadata": {},
   "outputs": [],
   "source": [
    "query = \"INSERT INTO Squadre VALUES (%s, %s);\""
   ]
  },
  {
   "cell_type": "code",
   "execution_count": 19,
   "metadata": {},
   "outputs": [],
   "source": [
    "try:\n",
    "    # Esecuzione della query\n",
    "    cursor.executemany(query, squadre)\n",
    "    # Commit delle modifiche sul database, se tutto OK\n",
    "    db.commit()\n",
    "except:\n",
    "    print(\"Doing rollback ....\")\n",
    "    # Rollback in caso di errore\n",
    "    db.rollback()"
   ]
  },
  {
   "cell_type": "code",
   "execution_count": null,
   "metadata": {},
   "outputs": [],
   "source": [
    "try:\n",
    "    cursor.execute(\"delete from Squadre;\")\n",
    "    db.commit()\n",
    "except:\n",
    "    db.rollback()"
   ]
  },
  {
   "cell_type": "code",
   "execution_count": null,
   "metadata": {},
   "outputs": [],
   "source": [
    "try:\n",
    "    cursor.executemany(query, enumerate(elenco_squadre,1))\n",
    "    db.commit()\n",
    "except:\n",
    "    print(\"Doing rollback ....\")\n",
    "    db.rollback()"
   ]
  },
  {
   "cell_type": "markdown",
   "metadata": {},
   "source": [
    "### Inseriamo ora le altre tabelle e i dati che abbiamo preparato"
   ]
  },
  {
   "cell_type": "code",
   "execution_count": null,
   "metadata": {},
   "outputs": [],
   "source": [
    "query = \"DROP TABLE IF EXISTS Calendario;\""
   ]
  },
  {
   "cell_type": "code",
   "execution_count": null,
   "metadata": {},
   "outputs": [],
   "source": [
    "cursor.execute(query)"
   ]
  },
  {
   "cell_type": "code",
   "execution_count": null,
   "metadata": {},
   "outputs": [],
   "source": [
    "query = \"CREATE TABLE Calendario (id INT(11) NOT NULL AUTO_INCREMENT, \" +\\\n",
    "                              \"giornata int(2) NOT NULL, \" +\\\n",
    "                              \"AR CHAR(1) NOT NULL, \" +\\\n",
    "                              \"data VARCHAR(10) NOT NULL,\"\n",
    "                              \"locali int(11) NOT NULL, \" +\\\n",
    "                              \"ospiti int(11) NOT NULL, \" +\\\n",
    "                              \"PRIMARY KEY ( id ));\";"
   ]
  },
  {
   "cell_type": "code",
   "execution_count": null,
   "metadata": {},
   "outputs": [],
   "source": [
    "cursor.execute(query)"
   ]
  },
  {
   "cell_type": "code",
   "execution_count": null,
   "metadata": {},
   "outputs": [],
   "source": [
    "query = \"INSERT INTO Calendario VALUES (%s, %s, %s, %s, %s);\""
   ]
  },
  {
   "cell_type": "code",
   "execution_count": null,
   "metadata": {},
   "outputs": [],
   "source": [
    "try:\n",
    "    cursor.executemany(query, calendario)\n",
    "    db.commit()\n",
    "except:\n",
    "    print(\"Doing rollback ....\")\n",
    "    db.rollback()"
   ]
  },
  {
   "cell_type": "code",
   "execution_count": null,
   "metadata": {},
   "outputs": [],
   "source": [
    "query = \"DROP TABLE IF EXISTS Risultati;\""
   ]
  },
  {
   "cell_type": "code",
   "execution_count": null,
   "metadata": {},
   "outputs": [],
   "source": [
    "cursor.execute(query)"
   ]
  },
  {
   "cell_type": "code",
   "execution_count": null,
   "metadata": {},
   "outputs": [],
   "source": [
    "query = \"CREATE TABLE Risultati (id INT(11) NOT NULL AUTO_INCREMENT, \" +\\\n",
    "                               \"partita int(11) NOT NULL, \" +\\\n",
    "                               \"retiLocali int(2) NOT NULL, \" +\\\n",
    "                               \"retiOspiti int(2) NOT NULL, \" +\\\n",
    "                               \"PRIMARY KEY ( id ));\";"
   ]
  },
  {
   "cell_type": "code",
   "execution_count": null,
   "metadata": {},
   "outputs": [],
   "source": [
    "cursor.execute(query)"
   ]
  },
  {
   "cell_type": "code",
   "execution_count": null,
   "metadata": {},
   "outputs": [],
   "source": [
    "query = \"INSERT INTO Risultati VALUES (%s, %s, %s, %s);\""
   ]
  },
  {
   "cell_type": "code",
   "execution_count": null,
   "metadata": {},
   "outputs": [],
   "source": [
    "try:\n",
    "    cursor.executemany(query, risultati)\n",
    "    db.commit()\n",
    "except:\n",
    "    print(\"Doing rollback ....\")\n",
    "    db.rollback()"
   ]
  },
  {
   "cell_type": "markdown",
   "metadata": {},
   "source": [
    "### Risultato di Samp - Genoa"
   ]
  },
  {
   "cell_type": "code",
   "execution_count": null,
   "metadata": {},
   "outputs": [],
   "source": [
    "query = \"SELECT Sq1.nome AS Locali, Sq2.nome AS Ospiti, retiLocali, retiOspiti \" + \\\n",
    "        \"FROM Calendario INNER JOIN Squadre AS Sq1 ON Calendario.locali = Sq1.id \" + \\\n",
    "        \"INNER JOIN Squadre AS Sq2 ON Calendario.ospiti = Sq2.id \" + \\\n",
    "        \"INNER JOIN Risultati ON Calendario.id = Risultati.partita \" + \\\n",
    "        \"INNER JOIN Campionati ON Calendario.campionato = Campionati.id \" + \\\n",
    "        \"WHERE Sq1.nome = 'Sampdoria' AND Sq2.nome = 'Genoa';\""
   ]
  },
  {
   "cell_type": "markdown",
   "metadata": {},
   "source": [
    "### Risultati della terza gionata di ritorno del campionato di serie A 2015/16"
   ]
  },
  {
   "cell_type": "code",
   "execution_count": null,
   "metadata": {},
   "outputs": [],
   "source": [
    "query = \"SELECT Sq1.nome AS Locali, Sq2.nome AS Ospiti, retiLocali, retiOspiti \" + \\\n",
    "        \"FROM Calendario INNER JOIN Squadre AS Sq1 ON Calendario.locali = Sq1.id \" + \\\n",
    "        \"INNER JOIN Squadre AS Sq2 ON Calendario.ospiti = Sq2.id \" + \\\n",
    "        \"INNER JOIN Risultati ON Calendario.id = Risultati.partita \" + \\\n",
    "        \"INNER JOIN Campionati ON Calendario.campionato = Campionati.id \" + \\\n",
    "        \"WHERE Campionati.nome = 'Serie A 2015/16' AND Calendario.giornata=3 AND Calendario.AR = 'R';\""
   ]
  },
  {
   "cell_type": "markdown",
   "metadata": {},
   "source": [
    "### Il cammino della Juventus verso il titolo"
   ]
  },
  {
   "cell_type": "code",
   "execution_count": null,
   "metadata": {},
   "outputs": [],
   "source": [
    "query = \"SELECT Giornata, AR, Sq1.nome AS Locali, Sq2.nome AS Ospiti, retiLocali, retiOspiti \" + \\\n",
    "        \"FROM Calendario INNER JOIN Squadre AS Sq1 ON Calendario.locali = Sq1.id \" + \\\n",
    "        \"INNER JOIN Squadre AS Sq2 ON Calendario.ospiti = Sq2.id \" + \\\n",
    "        \"INNER JOIN Risultati ON Calendario.id = Risultati.partita \" + \\\n",
    "        \"INNER JOIN Campionati ON Calendario.campionato = Campionati.id \" + \\\n",
    "        \"WHERE Campionati.nome = 'Serie A 2015/16' AND (Sq1.nome = 'Juventus' OR Sq2.nome = 'Juventus');\""
   ]
  },
  {
   "cell_type": "markdown",
   "metadata": {},
   "source": [
    "### La generazione della classifica è (relativamente) challenging\n",
    "\n",
    "### Definiamo preliminarmente due viste, una con tutti i risultati e una che \"conta\" i punti di ciascuna squadra in tutte le partite"
   ]
  },
  {
   "cell_type": "code",
   "execution_count": null,
   "metadata": {},
   "outputs": [],
   "source": [
    "query = \"CREATE VIEW Risultati_Serie_A_201516 AS \" + \\\n",
    "        \"SELECT Cal.giornata AS giornata, Cal.Ar AS girone, SC.nome AS locali, SO.nome AS ospiti, \" + \\\n",
    "        \"       Ris.retiLocali AS retiLocali, Ris.retiOspiti AS retiOspiti \" + \\\n",
    "        \"FROM Campionati AS Cam INNER JOIN Calendario AS Cal ON Cal.campionato = Cam.id \" + \\\n",
    "        \"                       INNER JOIN Squadre AS SC ON Cal.locali = SC.id \" + \\\n",
    "        \"                       INNER JOIN Squadre AS SO ON Cal.ospiti = SO.id \" + \\\n",
    "        \"                       LEFT JOIN Risultati AS Ris ON Ris.partita = Cal.id \" + \\\n",
    "        \"WHERE Cam.id=20 ORDER BY girone ASC, Giornata ASC;\""
   ]
  },
  {
   "cell_type": "code",
   "execution_count": null,
   "metadata": {},
   "outputs": [],
   "source": [
    "query = \"CREATE VIEW Risultati_Serie_A_201516_2 AS \" + \\\n",
    "        \"SELECT Risultati_Serie_A_201516.giornata AS giornata, \" + \\\n",
    "        \"       Risultati_Serie_A_201516.locali AS squadra, 'C' AS casa_fuori, \" + \\\n",
    "        \"       Risultati_Serie_A_201516.retiLocali AS reti_fatte, \" + \\\n",
    "        \"       Risultati_Serie_A_201516.retiOspiti AS reti_subite, \" + \\\n",
    "        \" (CASE WHEN (Risultati_Serie_A_201516.retiLocali > Risultati_Serie_A_201516.retiOspiti) THEN 3 \" + \\\n",
    "        \"       WHEN (Risultati_Serie_A_201516.retiLocali = Risultati_Serie_A_201516.retiOspiti) THEN 1 \" + \\\n",
    "        \"       ELSE 0 END) AS Punti \" + \\\n",
    "        \"FROM Risultati_Serie_A_201516 \" + \\\n",
    "        \"WHERE (Risultati_Serie_A_201516.retiLocali IS NOT NULL) \" + \\\n",
    "        \"UNION \" + \\\n",
    "        \"SELECT Risultati_Serie_A_201516.giornata AS giornata, \" + \\\n",
    "        \"       Risultati_Serie_A_201516.ospiti AS squadra, 'F' AS casa_fuori, \" + \\\n",
    "        \"       Risultati_Serie_A_201516.retiOspiti AS reti_fatte, \" + \\\n",
    "        \"       Risultati_Serie_A_201516.retiLocali AS reti_subite, \" + \\\n",
    "        \" (CASE WHEN (Risultati_Serie_A_201516.retiOspiti > Risultati_Serie_A_201516.retiLocali) THEN 3 \" + \\\n",
    "        \"       WHEN (Risultati_Serie_A_201516.retiLocali = Risultati_Serie_A_201516.retiOspiti) THEN 1 \" + \\\n",
    "        \"       ELSE 0 END) AS Punti \" + \\\n",
    "        \"FROM Risultati_Serie_A_201516 \" + \\\n",
    "        \"WHERE (Risultati_Serie_A_201516.retiLocali IS NOT NULL);\""
   ]
  },
  {
   "cell_type": "markdown",
   "metadata": {},
   "source": [
    "### Possiamo ora generare la classifica"
   ]
  },
  {
   "cell_type": "code",
   "execution_count": null,
   "metadata": {},
   "outputs": [],
   "source": [
    "query = \"SELECT squadra, \" + \\\n",
    "        \"       SUM(punti) AS Pt, COUNT(*) as G, \" + \\\n",
    "        \"       SUM(CASE WHEN punti=3 THEN 1 ELSE 0 END) AS V, \" + \\\n",
    "        \"       SUM(CASE WHEN punti=1 THEN 1 ELSE 0 END) AS N, \" + \\\n",
    "        \"       SUM(CASE WHEN punti=0 THEN 1 ELSE 0 END) AS P, \" + \\\n",
    "        \"       SUM(reti_fatte) AS GF, \" + \\\n",
    "        \"       SUM(reti_subite) AS GS, \" + \\\n",
    "        \"       SUM(reti_fatte)-SUM(reti_subite) AS Diff \" + \\\n",
    "        \"FROM Risultati_Serie_A_201516_2 \" + \\\n",
    "        \"GROUP BY squadra \" + \\\n",
    "        \"ORDER BY 2 DESC, 9 DESC, 1 ASC;\""
   ]
  }
 ],
 "metadata": {
  "kernelspec": {
   "display_name": "Python 3",
   "language": "python",
   "name": "python3"
  },
  "language_info": {
   "codemirror_mode": {
    "name": "ipython",
    "version": 3
   },
   "file_extension": ".py",
   "mimetype": "text/x-python",
   "name": "python",
   "nbconvert_exporter": "python",
   "pygments_lexer": "ipython3",
   "version": "3.6.7"
  }
 },
 "nbformat": 4,
 "nbformat_minor": 2
}
