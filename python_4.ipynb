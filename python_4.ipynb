{
 "cells": [
  {
   "cell_type": "markdown",
   "metadata": {},
   "source": [
    "## Decorators"
   ]
  },
  {
   "cell_type": "markdown",
   "metadata": {},
   "source": [
    "Un decorator in Python è una funzione (più in generale si può dire un **oggetto chiamabile**) che viene usato per modificare (decorare) il comportamento di una funzione o di una classe (e dei suoi oggetti).\n",
    "\n",
    "Il decoratore prende in input la funzione (o la classe) e restituisce la funzione (o la classe) modificata\n",
    "\n",
    "Abbiamo già utilizzato questa struttura (senza averla chiamata col nome appropriato) quando abbiamo usato @property, che un esempio notevole di decoratore\n",
    "\n",
    "Ora vediamo la nozione in modo più diretto"
   ]
  },
  {
   "cell_type": "markdown",
   "metadata": {},
   "source": [
    "### Ricordiamo che le funzioni sono first-class object"
   ]
  },
  {
   "cell_type": "code",
   "execution_count": null,
   "metadata": {},
   "outputs": [],
   "source": [
    "def Fibonacci(n):\n",
    "    f0 = 0\n",
    "    f1 = 1\n",
    "    for _ in range(n-1):\n",
    "      f0, f1 = f1, f0+f1\n",
    "    return f1"
   ]
  },
  {
   "cell_type": "code",
   "execution_count": null,
   "metadata": {},
   "outputs": [],
   "source": [
    "Fibonacci(100)"
   ]
  },
  {
   "cell_type": "code",
   "execution_count": null,
   "metadata": {},
   "outputs": [],
   "source": [
    "fibo = Fibonacci\n",
    "fibo(10)"
   ]
  },
  {
   "cell_type": "code",
   "execution_count": null,
   "metadata": {},
   "outputs": [],
   "source": [
    "def tabulate(sequence, f):\n",
    "    return [f(x) for x in sequence]"
   ]
  },
  {
   "cell_type": "code",
   "execution_count": null,
   "metadata": {},
   "outputs": [],
   "source": [
    "import math\n",
    "tabulate([x*0.01 for x in range(157)], math.cos)"
   ]
  },
  {
   "cell_type": "code",
   "execution_count": null,
   "metadata": {},
   "outputs": [],
   "source": [
    "def maketab(start, step, npoints):\n",
    "    sequence = [start+i*step for i in range(npoints)]\n",
    "    def tabulate(f):\n",
    "        return [f(x) for x in sequence]\n",
    "    return tabulate"
   ]
  },
  {
   "cell_type": "code",
   "execution_count": null,
   "metadata": {},
   "outputs": [],
   "source": [
    "tabulate = maketab(0,0.01,157)"
   ]
  },
  {
   "cell_type": "code",
   "execution_count": null,
   "metadata": {},
   "outputs": [],
   "source": [
    "tabulate(math.sin)"
   ]
  },
  {
   "cell_type": "code",
   "execution_count": null,
   "metadata": {},
   "outputs": [],
   "source": [
    "def makePoly(*coefficients):\n",
    "    def eval(x):\n",
    "        value = 0.0\n",
    "        for c in reversed(coefficients):\n",
    "            value = value*x + c\n",
    "        return value\n",
    "    return eval"
   ]
  },
  {
   "cell_type": "code",
   "execution_count": null,
   "metadata": {},
   "outputs": [],
   "source": [
    "p = makePoly(1,1,1)"
   ]
  },
  {
   "cell_type": "code",
   "execution_count": null,
   "metadata": {},
   "outputs": [],
   "source": [
    "for i in range(5):\n",
    "    print(p(i))"
   ]
  },
  {
   "cell_type": "markdown",
   "metadata": {},
   "source": [
    "### I decoratori mettono insieme le due \"costruzioni\": funzione come parametro e funzione come valore di ritorno, con una **sintassi specifica**"
   ]
  },
  {
   "cell_type": "code",
   "execution_count": null,
   "metadata": {},
   "outputs": [],
   "source": [
    "def decoratore(f):\n",
    "    def decorata(x):\n",
    "        print('x\\t f(x)')\n",
    "        f(x)\n",
    "    return decorata"
   ]
  },
  {
   "cell_type": "code",
   "execution_count": null,
   "metadata": {},
   "outputs": [],
   "source": [
    "def g(x):\n",
    "    print(x,'\\t',math.sin(x))"
   ]
  },
  {
   "cell_type": "code",
   "execution_count": null,
   "metadata": {},
   "outputs": [],
   "source": [
    "g(0.2)"
   ]
  },
  {
   "cell_type": "code",
   "execution_count": null,
   "metadata": {},
   "outputs": [],
   "source": [
    "gdec = decoratore(g)"
   ]
  },
  {
   "cell_type": "code",
   "execution_count": null,
   "metadata": {},
   "outputs": [],
   "source": [
    "gdec(0.2)"
   ]
  },
  {
   "cell_type": "code",
   "execution_count": null,
   "metadata": {},
   "outputs": [],
   "source": [
    "@decoratore\n",
    "def g(x):\n",
    "    print(x,'\\t',math.sin(x))"
   ]
  },
  {
   "cell_type": "code",
   "execution_count": null,
   "metadata": {},
   "outputs": [],
   "source": [
    "g(0.2)"
   ]
  },
  {
   "cell_type": "code",
   "execution_count": null,
   "metadata": {},
   "outputs": [],
   "source": [
    "def decoratore(f):\n",
    "    def decorata(*x):\n",
    "        print('x\\t f(x)')\n",
    "        for z in x:\n",
    "            f(z)\n",
    "    return decorata"
   ]
  },
  {
   "cell_type": "code",
   "execution_count": null,
   "metadata": {},
   "outputs": [],
   "source": [
    "g(*[i/10 for i in range(10)])"
   ]
  },
  {
   "cell_type": "markdown",
   "metadata": {},
   "source": [
    "### Tipici casi d'uso dei decoratori"
   ]
  },
  {
   "cell_type": "code",
   "execution_count": null,
   "metadata": {},
   "outputs": [],
   "source": [
    "def roots2(a,b,c):\n",
    "    delta = math.sqrt(b**2-4*a*c)\n",
    "    x1 = (-b-delta)/(2*a)\n",
    "    x2 = (-b+delta)/(2*a)\n",
    "    return x1,x2"
   ]
  },
  {
   "cell_type": "code",
   "execution_count": null,
   "metadata": {},
   "outputs": [],
   "source": [
    "roots2(1,-2,1)"
   ]
  },
  {
   "cell_type": "code",
   "execution_count": null,
   "metadata": {},
   "outputs": [],
   "source": [
    "def special_cases(f):\n",
    "    def checker(a,b,c):\n",
    "        if a==0:\n",
    "            return -c/b\n",
    "        else:\n",
    "            return f(a,b,c)\n",
    "    return checker"
   ]
  },
  {
   "cell_type": "code",
   "execution_count": null,
   "metadata": {},
   "outputs": [],
   "source": [
    "@special_cases\n",
    "def roots2(a,b,c):\n",
    "    delta = math.sqrt(b**2-4*a*c)\n",
    "    x1 = (-b-delta)/(2*a)\n",
    "    x2 = (-b+delta)/(2*a)\n",
    "    return x1,x2"
   ]
  },
  {
   "cell_type": "code",
   "execution_count": null,
   "metadata": {},
   "outputs": [],
   "source": [
    "roots2(0,-2,1)"
   ]
  }
 ],
 "metadata": {
  "kernelspec": {
   "display_name": "Python 3",
   "language": "python",
   "name": "python3"
  },
  "language_info": {
   "codemirror_mode": {
    "name": "ipython",
    "version": 3
   },
   "file_extension": ".py",
   "mimetype": "text/x-python",
   "name": "python",
   "nbconvert_exporter": "python",
   "pygments_lexer": "ipython3",
   "version": "3.6.7"
  }
 },
 "nbformat": 4,
 "nbformat_minor": 2
}
