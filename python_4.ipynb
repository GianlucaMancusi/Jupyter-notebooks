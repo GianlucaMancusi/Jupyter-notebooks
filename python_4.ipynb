{
 "cells": [
  {
   "cell_type": "markdown",
   "metadata": {},
   "source": [
    "## Decorators"
   ]
  },
  {
   "cell_type": "markdown",
   "metadata": {},
   "source": [
    "Un decorator in Python è una funzione (più in generale si può dire un **oggetto chiamabile**) che viene usato per modificare (decorare) il comportamento di una funzione o di una classe (e dei suoi oggetti).\n",
    "\n",
    "Il decoratore prende in input la funzione (o la classe) e restituisce la funzione (o la classe) modificata\n",
    "\n",
    "Abbiamo già utilizzato questa struttura (senza averla chiamata col nome appropriato) quando abbiamo usato @property, che un esempio notevole di decoratore\n",
    "\n",
    "Ora vediamo la nozione in modo più diretto"
   ]
  },
  {
   "cell_type": "markdown",
   "metadata": {},
   "source": [
    "### Ricordiamo che le funzioni sono first-class object"
   ]
  },
  {
   "cell_type": "code",
   "execution_count": null,
   "metadata": {},
   "outputs": [],
   "source": [
    "def Fibonacci(n):\n",
    "    f0 = 0\n",
    "    f1 = 1\n",
    "    for _ in range(n-1):\n",
    "      f0, f1 = f1, f0+f1\n",
    "    return f1"
   ]
  },
  {
   "cell_type": "code",
   "execution_count": null,
   "metadata": {},
   "outputs": [],
   "source": [
    "Fibonacci(100)"
   ]
  },
  {
   "cell_type": "code",
   "execution_count": null,
   "metadata": {},
   "outputs": [],
   "source": [
    "fibo = Fibonacci\n",
    "fibo(10)"
   ]
  },
  {
   "cell_type": "code",
   "execution_count": null,
   "metadata": {},
   "outputs": [],
   "source": [
    "def tabulate(sequence, f):\n",
    "    return [f(x) for x in sequence]"
   ]
  },
  {
   "cell_type": "code",
   "execution_count": null,
   "metadata": {},
   "outputs": [],
   "source": [
    "import math\n",
    "tabulate([x*0.01 for x in range(157)], math.sin)"
   ]
  },
  {
   "cell_type": "code",
   "execution_count": null,
   "metadata": {},
   "outputs": [],
   "source": [
    "def maketab(start, step, npoints):\n",
    "    sequence = [start+i*step for i in range(npoints)]\n",
    "    def tabulate(f):\n",
    "        return [f(x) for x in sequence]\n",
    "    return tabulate"
   ]
  },
  {
   "cell_type": "code",
   "execution_count": null,
   "metadata": {},
   "outputs": [],
   "source": [
    "tabulate = maketab(0,0.01,157)"
   ]
  },
  {
   "cell_type": "code",
   "execution_count": null,
   "metadata": {},
   "outputs": [],
   "source": [
    "tabulate(math.cos)"
   ]
  },
  {
   "cell_type": "code",
   "execution_count": null,
   "metadata": {},
   "outputs": [],
   "source": [
    "def makePoly(*coefficients):\n",
    "    def eval(x):\n",
    "        value = 0.0\n",
    "        for c in reversed(coefficients):\n",
    "            value = value*x + c\n",
    "        return value\n",
    "    return eval"
   ]
  },
  {
   "cell_type": "code",
   "execution_count": null,
   "metadata": {},
   "outputs": [],
   "source": [
    "p = makePoly(1,2,-1)"
   ]
  },
  {
   "cell_type": "code",
   "execution_count": null,
   "metadata": {},
   "outputs": [],
   "source": [
    "for i in range(5):\n",
    "    print(p(i))"
   ]
  },
  {
   "cell_type": "markdown",
   "metadata": {},
   "source": [
    "### I decoratori mettono insieme le due \"costruzioni\": funzione come parametro e funzione come valore di ritorno, con una **sintassi specifica**"
   ]
  },
  {
   "cell_type": "code",
   "execution_count": null,
   "metadata": {},
   "outputs": [],
   "source": [
    "def decoratore(f):\n",
    "    def decorata(x):\n",
    "        print('x\\t f(x)')\n",
    "        f(x)\n",
    "    return decorata"
   ]
  },
  {
   "cell_type": "code",
   "execution_count": null,
   "metadata": {},
   "outputs": [],
   "source": [
    "def g(x):\n",
    "    print(x,'\\t',math.sin(x))"
   ]
  },
  {
   "cell_type": "code",
   "execution_count": null,
   "metadata": {},
   "outputs": [],
   "source": [
    "g(0.2)"
   ]
  },
  {
   "cell_type": "code",
   "execution_count": null,
   "metadata": {},
   "outputs": [],
   "source": [
    "g = decoratore(g)"
   ]
  },
  {
   "cell_type": "code",
   "execution_count": null,
   "metadata": {},
   "outputs": [],
   "source": [
    "gdec(0.2)"
   ]
  },
  {
   "cell_type": "code",
   "execution_count": null,
   "metadata": {},
   "outputs": [],
   "source": [
    "@decoratore\n",
    "def g(x):\n",
    "    print(x,'\\t',math.sin(x))"
   ]
  },
  {
   "cell_type": "code",
   "execution_count": null,
   "metadata": {},
   "outputs": [],
   "source": [
    "g(0.2)"
   ]
  },
  {
   "cell_type": "code",
   "execution_count": null,
   "metadata": {},
   "outputs": [],
   "source": [
    "def decoratore(f):\n",
    "    def decorata(*x):\n",
    "        print('x\\t f(x)')\n",
    "        for z in x:\n",
    "            f(z)\n",
    "    return decorata"
   ]
  },
  {
   "cell_type": "code",
   "execution_count": null,
   "metadata": {},
   "outputs": [],
   "source": [
    "g(0.01,0.02,0.03)"
   ]
  },
  {
   "cell_type": "code",
   "execution_count": null,
   "metadata": {},
   "outputs": [],
   "source": [
    "g([i/10 for i in range(10)])"
   ]
  },
  {
   "cell_type": "markdown",
   "metadata": {},
   "source": [
    "### Tipici casi d'uso dei decoratori"
   ]
  },
  {
   "cell_type": "markdown",
   "metadata": {},
   "source": [
    "La decorazione può utilmente \"occuparsi\" (in particolare, per la chiarezza del codice) dei casi particolari di input che devono essere controllati da un algoritmo."
   ]
  },
  {
   "cell_type": "code",
   "execution_count": null,
   "metadata": {},
   "outputs": [],
   "source": [
    "def roots2(a,b,c):\n",
    "    delta = math.sqrt(b**2-4*a*c)\n",
    "    x1 = (-b-delta)/(2*a)\n",
    "    x2 = (-b+delta)/(2*a)\n",
    "    return x1,x2"
   ]
  },
  {
   "cell_type": "code",
   "execution_count": null,
   "metadata": {},
   "outputs": [],
   "source": [
    "roots2(0,-2,1)"
   ]
  },
  {
   "cell_type": "code",
   "execution_count": null,
   "metadata": {},
   "outputs": [],
   "source": [
    "def special_cases(f):\n",
    "    '''Per semplicità, tratta solo il caso in cui il coefficiente del termine quadratico è nullo'''\n",
    "    def checker(a,b,c):\n",
    "        if a==0:\n",
    "            return -c/b\n",
    "        else:\n",
    "            return f(a,b,c)\n",
    "    return checker"
   ]
  },
  {
   "cell_type": "code",
   "execution_count": null,
   "metadata": {},
   "outputs": [],
   "source": [
    "@special_cases\n",
    "def roots2(a,b,c):\n",
    "    delta = math.sqrt(b**2-4*a*c)\n",
    "    x1 = (-b-delta)/(2*a)\n",
    "    x2 = (-b+delta)/(2*a)\n",
    "    return x1,x2"
   ]
  },
  {
   "cell_type": "code",
   "execution_count": null,
   "metadata": {},
   "outputs": [],
   "source": [
    "roots2(0,-2,1)"
   ]
  },
  {
   "cell_type": "markdown",
   "metadata": {},
   "source": [
    "Un secondo caso di utilizzo è la raccolta di statistiche sull'uso di una funzione (tempo di esecuzione, numero di volte che è stata chiamata, ...)"
   ]
  },
  {
   "cell_type": "code",
   "execution_count": null,
   "metadata": {},
   "outputs": [],
   "source": [
    "from time import time"
   ]
  },
  {
   "cell_type": "code",
   "execution_count": null,
   "metadata": {},
   "outputs": [],
   "source": [
    "n = 1000000"
   ]
  },
  {
   "cell_type": "code",
   "execution_count": null,
   "metadata": {},
   "outputs": [],
   "source": [
    "start_time = int(round(time() * 1000)) #tempo in millisecondi (trascorso a partire dal 1/1/1970\n",
    "Fibonacci(n)\n",
    "stop_time = int(round(time() * 1000))\n",
    "elapsed_time = stop_time-start_time\n",
    "print(\"Tempo di esecuzione di Fibonacci({}): {}ms\".format(n, elapsed_time))"
   ]
  },
  {
   "cell_type": "code",
   "execution_count": null,
   "metadata": {},
   "outputs": [],
   "source": [
    "def my_timer(f):\n",
    "    def timedfun(n):\n",
    "        start_time = int(round(time() * 1000))\n",
    "        res = f(n)\n",
    "        stop_time = int(round(time() * 1000))\n",
    "        timedfun.time = stop_time-start_time\n",
    "        return res\n",
    "    return timedfun\n",
    "\n",
    "@my_timer\n",
    "def Fibonacci(n):\n",
    "    f0 = 0\n",
    "    f1 = 1\n",
    "    for _ in range(n-1):\n",
    "      f0, f1 = f1, f0+f1\n",
    "    return f1\n",
    "\n",
    "Fibonacci(n)\n",
    "print(\"Tempo di esecuzione di Fibonacci({}): {}ms\".format(n, Fibonacci.time))"
   ]
  },
  {
   "cell_type": "code",
   "execution_count": null,
   "metadata": {},
   "outputs": [],
   "source": [
    "Fibonacci(n)\n",
    "print(\"Tempo di esecuzione di Fibonacci({}): {}ms\".format(n, Fibonacci.time))"
   ]
  },
  {
   "cell_type": "code",
   "execution_count": null,
   "metadata": {},
   "outputs": [],
   "source": [
    "@my_timer\n",
    "def insSort(A):\n",
    "    n = len(A)\n",
    "    for i in range(1,n):\n",
    "        temp = A[i]\n",
    "        j = i-1\n",
    "        while j>=0 and A[j]>temp:\n",
    "            A[j+1] = A[j]\n",
    "            j = j-1\n",
    "        A[j+1] = temp"
   ]
  },
  {
   "cell_type": "code",
   "execution_count": null,
   "metadata": {},
   "outputs": [],
   "source": [
    "from random import randint"
   ]
  },
  {
   "cell_type": "code",
   "execution_count": null,
   "metadata": {},
   "outputs": [],
   "source": [
    "n = 20000\n",
    "A = [randint(1,100) for _ in range(n)]\n",
    "#A"
   ]
  },
  {
   "cell_type": "code",
   "execution_count": null,
   "metadata": {},
   "outputs": [],
   "source": [
    "insSort(A)\n",
    "print(\"Tempo di esecuzione di insSort(A): {}ms\".format(insSort.time))"
   ]
  },
  {
   "cell_type": "code",
   "execution_count": null,
   "metadata": {},
   "outputs": [],
   "source": [
    "A"
   ]
  },
  {
   "cell_type": "code",
   "execution_count": null,
   "metadata": {},
   "outputs": [],
   "source": [
    "def general_timer(f):\n",
    "    def timedfun(*args, **kw):\n",
    "        start_time = int(round(time() * 1000))\n",
    "        res = f(*args, **kw)\n",
    "        stop_time = int(round(time() * 1000))\n",
    "        timedfun.time = stop_time-start_time\n",
    "        print(1)\n",
    "        return res\n",
    "    return timedfun"
   ]
  },
  {
   "cell_type": "code",
   "execution_count": null,
   "metadata": {},
   "outputs": [],
   "source": [
    "@general_timer\n",
    "def insSort(A):\n",
    "    n = len(A)\n",
    "    for i in range(1,n):\n",
    "        temp = A[i]\n",
    "        j = i-1\n",
    "        while j>=0 and A[j]>temp:\n",
    "            A[j+1] = A[j]\n",
    "            j = j-1\n",
    "        A[j+1] = temp"
   ]
  },
  {
   "cell_type": "code",
   "execution_count": null,
   "metadata": {},
   "outputs": [],
   "source": [
    "insSort(A)\n",
    "print(\"Tempo di esecuzione di insSort(A): {}ms\".format(insSort.time))"
   ]
  },
  {
   "cell_type": "markdown",
   "metadata": {},
   "source": [
    "Occhio ai problemi con le funzioni ricorsive... (a cominciare dal valore di n)"
   ]
  },
  {
   "cell_type": "code",
   "execution_count": null,
   "metadata": {},
   "outputs": [],
   "source": [
    "n = 30"
   ]
  },
  {
   "cell_type": "code",
   "execution_count": null,
   "metadata": {},
   "outputs": [],
   "source": [
    "def Fibonacci_rec(n):\n",
    "    if n == 0 or n == 1:\n",
    "        return n\n",
    "    return Fibonacci_rec(n-2)+Fibonacci_rec(n-1)"
   ]
  },
  {
   "cell_type": "code",
   "execution_count": null,
   "metadata": {},
   "outputs": [],
   "source": [
    "start_time = int(round(time() * 1000)) #tempo in millisecondi (trascorso a partire dal 1/1/1970)\n",
    "Fibonacci_rec(n)\n",
    "stop_time = int(round(time() * 1000))\n",
    "elapsed_time = stop_time-start_time\n",
    "print(\"Tempo di esecuzione: {}ms\".format(elapsed_time))"
   ]
  },
  {
   "cell_type": "code",
   "execution_count": null,
   "metadata": {},
   "outputs": [],
   "source": [
    "@general_timer\n",
    "def Fibonacci_rec(n):\n",
    "    if n == 0 or n == 1:\n",
    "        return n\n",
    "    return Fibonacci_rec(n-2)+Fibonacci_rec(n-1)"
   ]
  },
  {
   "cell_type": "code",
   "execution_count": null,
   "metadata": {},
   "outputs": [],
   "source": [
    "Fibonacci_rec(n)\n",
    "print(Fibonacci_rec.time)"
   ]
  },
  {
   "cell_type": "markdown",
   "metadata": {},
   "source": [
    "Una possibile soluzione (poco \"elegante\" ...)."
   ]
  },
  {
   "cell_type": "code",
   "execution_count": null,
   "metadata": {},
   "outputs": [],
   "source": [
    "@general_timer\n",
    "def Fibonacci_r(n):\n",
    "    if n == 0 or n == 1:\n",
    "        return n\n",
    "    return Fibonacci_rec(n-2)+Fibonacci_rec(n-1)"
   ]
  },
  {
   "cell_type": "code",
   "execution_count": null,
   "metadata": {},
   "outputs": [],
   "source": [
    "Fibonacci_r(n)\n",
    "print(Fibonacci_r.time)"
   ]
  },
  {
   "cell_type": "markdown",
   "metadata": {},
   "source": [
    "Anziché il tempo, si potrebbe voler misurare il numero di chiamate di una funzione"
   ]
  },
  {
   "cell_type": "code",
   "execution_count": null,
   "metadata": {},
   "outputs": [],
   "source": [
    "def callcnt(f):\n",
    "    def counter(*args, **kw):\n",
    "        counter.calls += 1\n",
    "        return f(*args, **kw)\n",
    "    counter.calls = 0\n",
    "    return counter"
   ]
  },
  {
   "cell_type": "markdown",
   "metadata": {},
   "source": [
    "Questa volta non ci sono problemi con la ricorsione"
   ]
  },
  {
   "cell_type": "code",
   "execution_count": null,
   "metadata": {},
   "outputs": [],
   "source": [
    "@callcnt\n",
    "def Fibonacci_rec(n):\n",
    "    if n == 1 or n == 2:\n",
    "        return 1\n",
    "    return Fibonacci_rec(n-2)+Fibonacci_rec(n-1)"
   ]
  },
  {
   "cell_type": "code",
   "execution_count": null,
   "metadata": {},
   "outputs": [],
   "source": [
    "n = 30\n",
    "Fibonacci_rec.calls = 0\n",
    "v = Fibonacci_rec(n)\n",
    "print(\"Il numero C(n) di chiamate ricorsive (con n = {}) è {}\".format(n,Fibonacci_rec.calls))\n",
    "print(\"Il valore di f({}) è {}\".format(n,v))\n",
    "print(\"Controllo, C(n) == 2*f(n)-1: {}\".format(Fibonacci_rec.calls==2*v-1))"
   ]
  },
  {
   "cell_type": "markdown",
   "metadata": {},
   "source": [
    "### Anche le classi possono essere utilizzate come decoratori"
   ]
  },
  {
   "cell_type": "markdown",
   "metadata": {},
   "source": [
    "### Digressione. \\__call\\__: un interessante \"metodo magico\""
   ]
  },
  {
   "cell_type": "code",
   "execution_count": null,
   "metadata": {},
   "outputs": [],
   "source": [
    "class myrand:\n",
    "    '''Un semplice generatore pseudo-casuale, da non usare per scopi crittografici...'''\n",
    "    def __init__(self):\n",
    "        self._a = 16807\n",
    "        self._m = (1 << 31) - 1 #2^31 -1\n",
    "        self._d = 1.0/self._m\n",
    "        self._x = 1\n",
    "        for i in range(10000):  # Per rendere i numeri \"usati\" (apparentemente) indipendenti dal seme iniziale\n",
    "            self.__call__()\n",
    "    \n",
    "    def __call__(self):\n",
    "        self._x = (self._a*self._x)%self._m\n",
    "        return self._x*self._d"
   ]
  },
  {
   "cell_type": "code",
   "execution_count": null,
   "metadata": {},
   "outputs": [],
   "source": [
    "r = myrand()"
   ]
  },
  {
   "cell_type": "code",
   "execution_count": null,
   "metadata": {
    "scrolled": true
   },
   "outputs": [],
   "source": [
    "for _ in range(10):\n",
    "    print(r())"
   ]
  },
  {
   "cell_type": "markdown",
   "metadata": {},
   "source": [
    "E' evidente che un tale generatore (del quale tutte le possibili istanze si comporterebbero alla stessa maniera) può essere realizzato in molti altri modi. Tuttavia l'esempio illustra il punto. Il metodo \\__call\\__ può essere chiamato col nome stesso della classe, il che rende l'uso di comprensione immediata. L'esempio illustra come sua possibile realizzare semplicemente una sorta di \"funzione con stato\", mediante classi e metodo \\__call\\__"
   ]
  },
  {
   "cell_type": "markdown",
   "metadata": {},
   "source": [
    "Esempio: generazione di numeri distribuito con esponenziale negativa (di fondamentale utilità in esperimenti di simulazione)"
   ]
  },
  {
   "cell_type": "code",
   "execution_count": null,
   "metadata": {},
   "outputs": [],
   "source": [
    "from math import log\n",
    "class negexp:\n",
    "    '''Utilizza un qualsiasi generatore uniforme e lo utilizza\n",
    "       per calcolare \"negative exponential deviate\". l si interpreta\n",
    "       come frequenza degli eventi (numero di eventi nell'unità di tempo)'''\n",
    "    def __init__(self, l):\n",
    "        self._lambda = l\n",
    "\n",
    "    def __call__(self, fn):\n",
    "        '''fn è il generatore uniforme'''\n",
    "        def decorated():\n",
    "            x = fn()\n",
    "            return -log(1.0-x)/self._lambda\n",
    "        return decorated"
   ]
  },
  {
   "cell_type": "code",
   "execution_count": null,
   "metadata": {},
   "outputs": [],
   "source": [
    "@negexp(2)\n",
    "def schedule():\n",
    "    return random()"
   ]
  },
  {
   "cell_type": "code",
   "execution_count": null,
   "metadata": {},
   "outputs": [],
   "source": [
    "schedule()"
   ]
  },
  {
   "cell_type": "code",
   "execution_count": null,
   "metadata": {},
   "outputs": [],
   "source": [
    "negexp(2).__call__(random)()"
   ]
  },
  {
   "cell_type": "code",
   "execution_count": null,
   "metadata": {},
   "outputs": [],
   "source": [
    "t = 0.0\n",
    "count = 0\n",
    "while t<100:\n",
    "    t += schedule()\n",
    "    count += 1\n",
    "print(count)"
   ]
  },
  {
   "cell_type": "code",
   "execution_count": null,
   "metadata": {},
   "outputs": [],
   "source": [
    "@negexp(10)\n",
    "def schedulefast():\n",
    "    return random()"
   ]
  },
  {
   "cell_type": "code",
   "execution_count": null,
   "metadata": {},
   "outputs": [],
   "source": [
    "t = 0.0\n",
    "count = 0\n",
    "while t<100:\n",
    "    t += schedulefast()\n",
    "    count += 1\n",
    "print(count)"
   ]
  },
  {
   "cell_type": "code",
   "execution_count": null,
   "metadata": {},
   "outputs": [],
   "source": [
    "###### Progetto di un semplice simulatore con 1 coda e k serventi\n",
    "\n",
    "from math import log\n",
    "from random import random\n",
    "\n",
    "import pdb\n",
    "\n",
    "JOB_ARRIVAL = 0\n",
    "\n",
    "class negexp:\n",
    "    '''Utilizza un qualsiasi generatore uniforme e lo utilizza\n",
    "       per calcolare \"negative exponential deviate\". l si interpreta\n",
    "       come frequenza degli eventi (numero di eventi nell'unità di tempo)'''\n",
    "    def __init__(self, l):\n",
    "        self._lambda = l\n",
    "\n",
    "    def __call__(self, fn):\n",
    "        '''fn è il generatore uniforme'''\n",
    "        def decorated():\n",
    "            x = fn()\n",
    "            return -log(1.0-x)/self._lambda\n",
    "        return decorated\n",
    "\n",
    "class job(int):\n",
    "    '''Classe che definisce i job. Questi sono identificati semplicemente da numeri interi\n",
    "    (ereditano da int) con alcune proprietà utilizzate per la gestione e per il calcolo delle\n",
    "    statistiche:\n",
    "    1) tempo di arrivo nel sistema\n",
    "    2) tempo di inizio servizio\n",
    "    3) tempo di fine servizio\n",
    "    4) identificazione del server\n",
    "    Il sistema è senza pre-emption (i job non vengono interrotti)\n",
    "    '''\n",
    "    \n",
    "    __jobCnt = 1  # Contatore \"automatico\" per attribuire un id (int) ai job\n",
    "    \n",
    "    def __new__(cls, arrivalTime):\n",
    "        j = super().__new__(cls, job.__jobCnt) # chiamata del costruttore della classe parent (int)\n",
    "        j.__arrivalTime = arrivalTime          # tempo di arrivo del job\n",
    "        job.__jobCnt += 1                      # incremento del contatore\n",
    "        return j\n",
    "    \n",
    "    def __str__(self):\n",
    "        j = super().__str__()\n",
    "        return \"job {}\\n\\tarrival time: {}\\n\\tservice time: {}\\n\\tend time: {}\".format(j,\\\n",
    "                                                                                       self.arrivalTime,\\\n",
    "                                                                                       self.serviceTime,\\\n",
    "                                                                                       self.endTime)\n",
    "    \n",
    "    def inService(self, time, server, duration):\n",
    "        '''Memorizza i tempi di inizio e fine servizio e il numero del servente'''\n",
    "        self.__start = time\n",
    "        self.__priority = time+duration\n",
    "        self.__server = server\n",
    "        \n",
    "    @property\n",
    "    def server(self):\n",
    "        return self.__server\n",
    "    \n",
    "    @property\n",
    "    def priority(self):\n",
    "        return self.__priority\n",
    "             \n",
    "    @property\n",
    "    def endTime(self):\n",
    "        try:\n",
    "            t = self.__priority\n",
    "        except:\n",
    "            print(\"Il job non è ancora completato\")\n",
    "            return\n",
    "        return t\n",
    "    \n",
    "    @property\n",
    "    def serviceTime(self):\n",
    "        try:\n",
    "            t = self.__start\n",
    "        except:\n",
    "            print(\"Il job è ancora in coda\")\n",
    "            return\n",
    "        return t\n",
    "    \n",
    "    @property\n",
    "    def arrivalTime(self):\n",
    "        return self.__arrivalTime\n",
    "\n",
    "class event(int):\n",
    "    '''Classe che definisce gli eventi. Per questo simulatore sono rilevanti solo\n",
    "    due tipi di evento:\n",
    "    1) richiesta di un nuovo servizio (arrivo di un nuovo job),\n",
    "    2) completamento del servizio di un job da parte di un server.\n",
    "    La classe eredita da int e dunque gli eventi sono rappresentati come numeri interi.\n",
    "    L'evento di arrivo di un nuovo job è rappresentato dalla costante JOB_ARRIVAL (che vale 0)\n",
    "    mentre la terminazione di un job è rappresentata dal job stesso (che, si ricordi, è \n",
    "    un intero positivo). Ad ogni evento è associata una priorità, che è semplicemente il\n",
    "    tempo al quale l'evento accade. Gli eventi schedulati (non ancora accaduti) sono memorizzati\n",
    "    in una coda con priorità min-based, che è la struttura dati fondamentale del simulatore\n",
    "    '''\n",
    "    def __new__(cls, time, eventType):\n",
    "        if type(eventType) == int:\n",
    "            e = super().__new__(cls, eventType)  # Chiamata del costruttore della classe parent (int)\n",
    "            e.__priority = time                  # Ogni evento ha un tipo e un tempo di occorrenza\n",
    "        else:\n",
    "            print('pippo')\n",
    "            e = job             # Se l'evento è (la schedulazione di) un job, questo viene creato\n",
    "        return e\n",
    "    \n",
    "    def __lt__(self, other):\n",
    "        '''La precedenza di eventi è stabilita dalla priorità'''\n",
    "        return self.priority < other.priority\n",
    "    \n",
    "    def eType(self):\n",
    "        return type(self)\n",
    "    \n",
    "    @property\n",
    "    def priority(self):\n",
    "        return self.__priority\n",
    "    \n",
    "    @property\n",
    "    def time(self):\n",
    "        return self.__priority\n",
    "\n",
    "class EmptyQueue(Exception):\n",
    "    pass\n",
    "\n",
    "class queue:\n",
    "    '''Classe che implementa una coda semplice'''\n",
    "    def __init__(self):\n",
    "        self.__Q = []\n",
    "    \n",
    "    def enqueue(self, object):\n",
    "        self.__Q.insert(0,object)\n",
    "        \n",
    "    def dequeue(self):\n",
    "        if self.empty():\n",
    "            raise EmptyQueue\n",
    "        return self.__Q.pop()\n",
    "    \n",
    "    def empty(self):\n",
    "        return self.__Q == []\n",
    "\n",
    "class priority_queue:\n",
    "    '''Implementa una coda con priorità (min-based) di oggetti arbitrari, che\n",
    "       devono avere la sola proprietà di essere confrontabili con l'operatore <.\n",
    "       L'attuale implementazione usa una semplice lista non ordinata. Questo\n",
    "       rende efficiente l'inserzione ma non la ricerca e l'estrazione\n",
    "       dell'oggetto con minimo valore di priorità'''\n",
    "       \n",
    "    def __init__(self, L=[]):\n",
    "        if not L:\n",
    "            self.__list = []\n",
    "        else:\n",
    "            self.__list = L\n",
    "\n",
    "    def insert(self, obj):\n",
    "        self.__list.append(obj)\n",
    "\n",
    "    def is_empty(self):\n",
    "        return self.__list == []\n",
    "\n",
    "    def size(self):\n",
    "        return len(self.__list)\n",
    "    \n",
    "    def minimum(self):\n",
    "        if self.is_empty():\n",
    "            raise EmptyQueue\n",
    "        minindex = 0\n",
    "        for i in range(1, len(self.__list)):\n",
    "            if self.__list[i] < self.__list[minindex]:\n",
    "                minindex = i\n",
    "        return self.__list[minindex]\n",
    "        \n",
    "    def delete(self):\n",
    "        if self.is_empty():\n",
    "            raise EmptyQueue\n",
    "        minindex = 0\n",
    "        for i in range(1, len(self.__list)):\n",
    "            if self.__list[i] < self.__list[minindex]:\n",
    "                minindex = i\n",
    "        x = self.__list[minindex]\n",
    "        del self.__list[minindex]\n",
    "        return x\n",
    "\n",
    "class server:\n",
    "    '''Classe che implementa i server'''\n",
    "    \n",
    "    def __init__(self, speed, system):\n",
    "        @negexp(speed)\n",
    "        def JobService():\n",
    "            return random()\n",
    "        \n",
    "        self.__system = system\n",
    "        self.__scheduler = JobService\n",
    "        self.__busy = False\n",
    "        \n",
    "    def runJob(self, job, currentTime):\n",
    "        if not self.busy:\n",
    "            self.__busy = True\n",
    "            self.__currentJob = job\n",
    "            duration = self.__scheduler()\n",
    "            job.inService(currentTime, self, duration)\n",
    "    \n",
    "    def endJob(self):\n",
    "        self.__busy = False\n",
    "        self.__system.jobTerminates(self, self.__currentJob)\n",
    "          \n",
    "    @property\n",
    "    def busy(self):\n",
    "        return self.__busy\n",
    "\n",
    "class system:\n",
    "    '''Classe che implementa il controllo dei k server e della coda'''\n",
    "    def __init__(self, k, speed, pQ):\n",
    "        self.__k = k\n",
    "        self.__servers = [server(speed, self) for _ in range(k)]\n",
    "        self.__Q = queue()\n",
    "        self.__pQ = pQ\n",
    "        self.__log = []\n",
    "    \n",
    "    def jobEnters(self, job, currentTime):\n",
    "        s = self.available()\n",
    "        if s:\n",
    "            if self.__pQ.is_empty():\n",
    "                t = currentTime\n",
    "            else:\n",
    "                t = max(currentTime,self.__pQ.minimum())\n",
    "            s.runJob(job, t)\n",
    "            self.__pQ.insert(job)\n",
    "        else:\n",
    "            self.__Q.enqueue(job)\n",
    "    \n",
    "    def available(self):\n",
    "        for s in self.__servers:\n",
    "            if not s.busy:\n",
    "                return s\n",
    "        return None\n",
    "\n",
    "    def jobTerminates(self, server, job):\n",
    "        self.__log.append(job)\n",
    "        currentTime = job.endTime\n",
    "        if not self.__Q.empty():\n",
    "            self.jobEnters(self.__Q.dequeue(),currentTime)\n",
    "            \n",
    "    @property\n",
    "    def log(self):\n",
    "        return self.__log\n",
    "    \n",
    "def sim(numservers=1, speed=1, arrivalRate=1, simLen=2):\n",
    "    \n",
    "    @negexp(arrivalRate)\n",
    "    def JobArrival():\n",
    "        return random()\n",
    "    \n",
    "    Q = priority_queue()\n",
    "    S = system(numservers, speed, Q)\n",
    "    time = 0.0\n",
    "    Q.insert(event(time,JOB_ARRIVAL))\n",
    "    \n",
    "    while time<simLen:\n",
    "        e = Q.delete()\n",
    "        time = e.priority\n",
    "        if type(e) == job:\n",
    "            e.server.endJob()\n",
    "        else:\n",
    "            j = job(time)\n",
    "            S.jobEnters(j,time)\n",
    "            nextArrival = JobArrival()\n",
    "            Q.insert(event(time+nextArrival,JOB_ARRIVAL))\n",
    "    \n",
    "    for j in S.log:\n",
    "        print(j)"
   ]
  },
  {
   "cell_type": "code",
   "execution_count": null,
   "metadata": {},
   "outputs": [],
   "source": [
    "S = simulation(3,1,3)"
   ]
  },
  {
   "cell_type": "code",
   "execution_count": null,
   "metadata": {},
   "outputs": [],
   "source": [
    "S._servers[0].run(0)"
   ]
  },
  {
   "cell_type": "code",
   "execution_count": null,
   "metadata": {},
   "outputs": [],
   "source": [
    "j = [1,2,3]\n",
    "s = server(j,schedule)\n",
    "s.run(0)"
   ]
  },
  {
   "cell_type": "code",
   "execution_count": null,
   "metadata": {},
   "outputs": [],
   "source": [
    "j"
   ]
  },
  {
   "cell_type": "code",
   "execution_count": null,
   "metadata": {},
   "outputs": [],
   "source": []
  }
 ],
 "metadata": {
  "kernelspec": {
   "display_name": "Python 3",
   "language": "python",
   "name": "python3"
  },
  "language_info": {
   "codemirror_mode": {
    "name": "ipython",
    "version": 3
   },
   "file_extension": ".py",
   "mimetype": "text/x-python",
   "name": "python",
   "nbconvert_exporter": "python",
   "pygments_lexer": "ipython3",
   "version": "3.6.7"
  }
 },
 "nbformat": 4,
 "nbformat_minor": 2
}
