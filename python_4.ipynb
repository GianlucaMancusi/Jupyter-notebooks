{
 "cells": [
  {
   "cell_type": "markdown",
   "metadata": {},
   "source": [
    "## Decorators"
   ]
  },
  {
   "cell_type": "markdown",
   "metadata": {},
   "source": [
    "Un decorator in Python è una funzione (più in generale si può dire un **oggetto chiamabile**) che viene usato per modificare (decorare) il comportamento di una funzione o di una classe (e dei suoi oggetti).\n",
    "\n",
    "Il decoratore prende in input la funzione (o la classe) e restituisce la funzione (o la classe) modificata\n",
    "\n",
    "Abbiamo già utilizzato questa struttura (senza averla chiamata col nome appropriato) quando abbiamo usato @property, che un esempio notevole di decoratore\n",
    "\n",
    "Ora vediamo la nozione in modo più diretto"
   ]
  },
  {
   "cell_type": "markdown",
   "metadata": {},
   "source": [
    "### Ricordiamo che le funzioni sono first-class object"
   ]
  },
  {
   "cell_type": "code",
   "execution_count": 9,
   "metadata": {},
   "outputs": [],
   "source": [
    "def Fibonacci(n):\n",
    "    f0 = 0\n",
    "    f1 = 1\n",
    "    for _ in range(n-1):\n",
    "      f0, f1 = f1, f0+f1\n",
    "    return f1"
   ]
  },
  {
   "cell_type": "code",
   "execution_count": null,
   "metadata": {},
   "outputs": [],
   "source": [
    "Fibonacci(100)"
   ]
  },
  {
   "cell_type": "code",
   "execution_count": null,
   "metadata": {},
   "outputs": [],
   "source": [
    "fibo = Fibonacci\n",
    "fibo(10)"
   ]
  },
  {
   "cell_type": "code",
   "execution_count": null,
   "metadata": {},
   "outputs": [],
   "source": [
    "def tabulate(sequence, f):\n",
    "    return [f(x) for x in sequence]"
   ]
  },
  {
   "cell_type": "code",
   "execution_count": null,
   "metadata": {},
   "outputs": [],
   "source": [
    "import math\n",
    "tabulate([x*0.01 for x in range(157)], math.sin)"
   ]
  },
  {
   "cell_type": "code",
   "execution_count": null,
   "metadata": {},
   "outputs": [],
   "source": [
    "def maketab(start, step, npoints):\n",
    "    sequence = [start+i*step for i in range(npoints)]\n",
    "    def tabulate(f):\n",
    "        return [f(x) for x in sequence]\n",
    "    return tabulate"
   ]
  },
  {
   "cell_type": "code",
   "execution_count": null,
   "metadata": {},
   "outputs": [],
   "source": [
    "tabulate = maketab(0,0.01,157)"
   ]
  },
  {
   "cell_type": "code",
   "execution_count": null,
   "metadata": {},
   "outputs": [],
   "source": [
    "tabulate(math.cos)"
   ]
  },
  {
   "cell_type": "code",
   "execution_count": null,
   "metadata": {},
   "outputs": [],
   "source": [
    "def makePoly(*coefficients):\n",
    "    def eval(x):\n",
    "        value = 0.0\n",
    "        for c in reversed(coefficients):\n",
    "            value = value*x + c\n",
    "        return value\n",
    "    return eval"
   ]
  },
  {
   "cell_type": "code",
   "execution_count": null,
   "metadata": {},
   "outputs": [],
   "source": [
    "p = makePoly(1,2,-1)"
   ]
  },
  {
   "cell_type": "code",
   "execution_count": null,
   "metadata": {},
   "outputs": [],
   "source": [
    "for i in range(5):\n",
    "    print(p(i))"
   ]
  },
  {
   "cell_type": "markdown",
   "metadata": {},
   "source": [
    "### I decoratori mettono insieme le due \"costruzioni\": funzione come parametro e funzione come valore di ritorno, con una **sintassi specifica**"
   ]
  },
  {
   "cell_type": "code",
   "execution_count": null,
   "metadata": {},
   "outputs": [],
   "source": [
    "def decoratore(f):\n",
    "    def decorata(x):\n",
    "        print('x\\t f(x)')\n",
    "        f(x)\n",
    "    return decorata"
   ]
  },
  {
   "cell_type": "code",
   "execution_count": null,
   "metadata": {},
   "outputs": [],
   "source": [
    "def g(x):\n",
    "    print(x,'\\t',math.sin(x))"
   ]
  },
  {
   "cell_type": "code",
   "execution_count": null,
   "metadata": {},
   "outputs": [],
   "source": [
    "g(0.2)"
   ]
  },
  {
   "cell_type": "code",
   "execution_count": null,
   "metadata": {},
   "outputs": [],
   "source": [
    "g = decoratore(g)"
   ]
  },
  {
   "cell_type": "code",
   "execution_count": null,
   "metadata": {},
   "outputs": [],
   "source": [
    "gdec(0.2)"
   ]
  },
  {
   "cell_type": "code",
   "execution_count": null,
   "metadata": {},
   "outputs": [],
   "source": [
    "@decoratore\n",
    "def g(x):\n",
    "    print(x,'\\t',math.sin(x))"
   ]
  },
  {
   "cell_type": "code",
   "execution_count": null,
   "metadata": {},
   "outputs": [],
   "source": [
    "g(0.2)"
   ]
  },
  {
   "cell_type": "code",
   "execution_count": null,
   "metadata": {},
   "outputs": [],
   "source": [
    "def decoratore(f):\n",
    "    def decorata(*x):\n",
    "        print('x\\t f(x)')\n",
    "        for z in x:\n",
    "            f(z)\n",
    "    return decorata"
   ]
  },
  {
   "cell_type": "code",
   "execution_count": null,
   "metadata": {},
   "outputs": [],
   "source": [
    "g(0.01,0.02,0.03)"
   ]
  },
  {
   "cell_type": "code",
   "execution_count": null,
   "metadata": {},
   "outputs": [],
   "source": [
    "g([i/10 for i in range(10)])"
   ]
  },
  {
   "cell_type": "markdown",
   "metadata": {},
   "source": [
    "### Tipici casi d'uso dei decoratori"
   ]
  },
  {
   "cell_type": "markdown",
   "metadata": {},
   "source": [
    "La decorazione può utilmente \"occuparsi\" (in particolare, per la chiarezza del codice) dei casi particolari di input che devono essere controllati da un algoritmo."
   ]
  },
  {
   "cell_type": "code",
   "execution_count": null,
   "metadata": {},
   "outputs": [],
   "source": [
    "def roots2(a,b,c):\n",
    "    delta = math.sqrt(b**2-4*a*c)\n",
    "    x1 = (-b-delta)/(2*a)\n",
    "    x2 = (-b+delta)/(2*a)\n",
    "    return x1,x2"
   ]
  },
  {
   "cell_type": "code",
   "execution_count": null,
   "metadata": {},
   "outputs": [],
   "source": [
    "roots2(0,-2,1)"
   ]
  },
  {
   "cell_type": "code",
   "execution_count": null,
   "metadata": {},
   "outputs": [],
   "source": [
    "def special_cases(f):\n",
    "    '''Per semplicità, tratta solo il caso in cui il coefficiente del termine quadratico è nullo'''\n",
    "    def checker(a,b,c):\n",
    "        if a==0:\n",
    "            return -c/b\n",
    "        else:\n",
    "            return f(a,b,c)\n",
    "    return checker"
   ]
  },
  {
   "cell_type": "code",
   "execution_count": null,
   "metadata": {},
   "outputs": [],
   "source": [
    "@special_cases\n",
    "def roots2(a,b,c):\n",
    "    delta = math.sqrt(b**2-4*a*c)\n",
    "    x1 = (-b-delta)/(2*a)\n",
    "    x2 = (-b+delta)/(2*a)\n",
    "    return x1,x2"
   ]
  },
  {
   "cell_type": "code",
   "execution_count": null,
   "metadata": {},
   "outputs": [],
   "source": [
    "roots2(0,-2,1)"
   ]
  },
  {
   "cell_type": "markdown",
   "metadata": {},
   "source": [
    "Un secondo caso di utilizzo è la raccolta di statistiche sull'uso di una funzione (tempo di esecuzione, numero di volte che è stata chiamata, ...)"
   ]
  },
  {
   "cell_type": "code",
   "execution_count": 1,
   "metadata": {},
   "outputs": [],
   "source": [
    "from time import time"
   ]
  },
  {
   "cell_type": "code",
   "execution_count": 5,
   "metadata": {},
   "outputs": [
    {
     "data": {
      "text/plain": [
       "1543412393.8636892"
      ]
     },
     "execution_count": 5,
     "metadata": {},
     "output_type": "execute_result"
    }
   ],
   "source": [
    "time()"
   ]
  },
  {
   "cell_type": "code",
   "execution_count": 24,
   "metadata": {},
   "outputs": [],
   "source": [
    "n = 100"
   ]
  },
  {
   "cell_type": "code",
   "execution_count": 14,
   "metadata": {},
   "outputs": [
    {
     "name": "stdout",
     "output_type": "stream",
     "text": [
      "Tempo di esecuzione di Fibonacci(1000): 0ms\n"
     ]
    }
   ],
   "source": [
    "start_time = int(round(time() * 1000)) #tempo in millisecondi (trascorso a partire dal 1/1/1970\n",
    "Fibonacci(n)\n",
    "stop_time = int(round(time() * 1000))\n",
    "elapsed_time = stop_time-start_time\n",
    "print(\"Tempo di esecuzione di Fibonacci({}): {}ms\".format(n, elapsed_time))"
   ]
  },
  {
   "cell_type": "code",
   "execution_count": 25,
   "metadata": {},
   "outputs": [
    {
     "name": "stdout",
     "output_type": "stream",
     "text": [
      "Tempo di esecuzione di Fibonacci(100): 0ms\n",
      "354224848179261915075\n"
     ]
    }
   ],
   "source": [
    "def my_timer(f):\n",
    "    def timedfun(n):\n",
    "        start_time = int(round(time() * 1000))\n",
    "        res = f(n)\n",
    "        stop_time = int(round(time() * 1000))\n",
    "        timedfun.time = stop_time-start_time\n",
    "        return res\n",
    "    return timedfun\n",
    "\n",
    "@my_timer\n",
    "def Fibonacci(n):\n",
    "    f0 = 0\n",
    "    f1 = 1\n",
    "    for _ in range(n-1):\n",
    "      f0, f1 = f1, f0+f1\n",
    "    return f1\n",
    "\n",
    "res = Fibonacci(n)\n",
    "print(\"Tempo di esecuzione di Fibonacci({}): {}ms\".format(n, Fibonacci.time))\n",
    "print(res)"
   ]
  },
  {
   "cell_type": "code",
   "execution_count": null,
   "metadata": {},
   "outputs": [],
   "source": [
    "Fibonacci(n)\n",
    "print(\"Tempo di esecuzione di Fibonacci({}): {}ms\".format(n, Fibonacci.time))"
   ]
  },
  {
   "cell_type": "code",
   "execution_count": 26,
   "metadata": {},
   "outputs": [],
   "source": [
    "@my_timer\n",
    "def insSort(A):\n",
    "    n = len(A)\n",
    "    for i in range(1,n):\n",
    "        temp = A[i]\n",
    "        j = i-1\n",
    "        while j>=0 and A[j]>temp:\n",
    "            A[j+1] = A[j]\n",
    "            j = j-1\n",
    "        A[j+1] = temp"
   ]
  },
  {
   "cell_type": "code",
   "execution_count": 27,
   "metadata": {},
   "outputs": [],
   "source": [
    "from random import randint"
   ]
  },
  {
   "cell_type": "code",
   "execution_count": 35,
   "metadata": {},
   "outputs": [],
   "source": [
    "n = 20000\n",
    "A = [randint(1,100) for _ in range(n)]\n",
    "#A"
   ]
  },
  {
   "cell_type": "code",
   "execution_count": 46,
   "metadata": {},
   "outputs": [
    {
     "name": "stdout",
     "output_type": "stream",
     "text": [
      "1\n",
      "Tempo di esecuzione di insSort(A): 13ms\n"
     ]
    }
   ],
   "source": [
    "insSort(A)\n",
    "print(\"Tempo di esecuzione di insSort(A): {}ms\".format(insSort.time))"
   ]
  },
  {
   "cell_type": "code",
   "execution_count": 31,
   "metadata": {},
   "outputs": [
    {
     "data": {
      "text/plain": [
       "[15, 18, 21, 21, 29, 34, 39, 43, 63, 84]"
      ]
     },
     "execution_count": 31,
     "metadata": {},
     "output_type": "execute_result"
    }
   ],
   "source": [
    "A"
   ]
  },
  {
   "cell_type": "code",
   "execution_count": 59,
   "metadata": {},
   "outputs": [],
   "source": [
    "def general_timer(f):\n",
    "    def timedfun(*args, **kw):\n",
    "        start_time = int(round(time() * 1000))\n",
    "        res = f(*args, **kw)\n",
    "        stop_time = int(round(time() * 1000))\n",
    "        timedfun.time = stop_time-start_time\n",
    "        return res\n",
    "    return timedfun"
   ]
  },
  {
   "cell_type": "code",
   "execution_count": 39,
   "metadata": {},
   "outputs": [],
   "source": [
    "@general_timer\n",
    "def insSort(A):\n",
    "    n = len(A)\n",
    "    for i in range(1,n):\n",
    "        temp = A[i]\n",
    "        j = i-1\n",
    "        while j>=0 and A[j]>temp:\n",
    "            A[j+1] = A[j]\n",
    "            j = j-1\n",
    "        A[j+1] = temp"
   ]
  },
  {
   "cell_type": "code",
   "execution_count": 42,
   "metadata": {},
   "outputs": [
    {
     "name": "stdout",
     "output_type": "stream",
     "text": [
      "1\n",
      "Tempo di esecuzione di insSort(A): 3ms\n"
     ]
    }
   ],
   "source": [
    "insSort(A)\n",
    "print(\"Tempo di esecuzione di insSort(A): {}ms\".format(insSort.time))"
   ]
  },
  {
   "cell_type": "markdown",
   "metadata": {},
   "source": [
    "Occhio ai problemi con le funzioni ricorsive... (a cominciare dal valore di n)"
   ]
  },
  {
   "cell_type": "code",
   "execution_count": 73,
   "metadata": {},
   "outputs": [],
   "source": [
    "n = 25"
   ]
  },
  {
   "cell_type": "code",
   "execution_count": 86,
   "metadata": {},
   "outputs": [],
   "source": [
    "def Fibonacci_rec(n):\n",
    "    if n == 0 or n == 1:\n",
    "        return n\n",
    "    return Fibonacci_rec(n-2)+Fibonacci_rec(n-1)"
   ]
  },
  {
   "cell_type": "code",
   "execution_count": 80,
   "metadata": {},
   "outputs": [
    {
     "name": "stdout",
     "output_type": "stream",
     "text": [
      "Tempo di esecuzione: 26ms\n"
     ]
    }
   ],
   "source": [
    "start_time = int(round(time() * 1000)) #tempo in millisecondi (trascorso a partire dal 1/1/1970)\n",
    "Fibonacci_rec(n)\n",
    "stop_time = int(round(time() * 1000))\n",
    "elapsed_time = stop_time-start_time\n",
    "print(\"Tempo di esecuzione: {}ms\".format(elapsed_time))"
   ]
  },
  {
   "cell_type": "code",
   "execution_count": 81,
   "metadata": {},
   "outputs": [],
   "source": [
    "@general_timer\n",
    "def Fibonacci_rec(n):\n",
    "    if n == 0 or n == 1:\n",
    "        return n\n",
    "    return Fibonacci_rec(n-2)+Fibonacci_rec(n-1)"
   ]
  },
  {
   "cell_type": "code",
   "execution_count": 85,
   "metadata": {},
   "outputs": [
    {
     "name": "stdout",
     "output_type": "stream",
     "text": [
      "220\n"
     ]
    }
   ],
   "source": [
    "Fibonacci_rec(n)\n",
    "print(Fibonacci_rec.time)"
   ]
  },
  {
   "cell_type": "markdown",
   "metadata": {},
   "source": [
    "Una possibile soluzione (poco \"elegante\" ...)."
   ]
  },
  {
   "cell_type": "code",
   "execution_count": 87,
   "metadata": {},
   "outputs": [],
   "source": [
    "@general_timer\n",
    "def Fibonacci_r(n):\n",
    "    if n == 0 or n == 1:\n",
    "        return n\n",
    "    return Fibonacci_rec(n-2)+Fibonacci_rec(n-1)"
   ]
  },
  {
   "cell_type": "code",
   "execution_count": 88,
   "metadata": {},
   "outputs": [
    {
     "name": "stdout",
     "output_type": "stream",
     "text": [
      "35\n"
     ]
    }
   ],
   "source": [
    "Fibonacci_r(n)\n",
    "print(Fibonacci_r.time)"
   ]
  },
  {
   "cell_type": "markdown",
   "metadata": {},
   "source": [
    "Anziché il tempo, si potrebbe voler misurare il numero di chiamate di una funzione"
   ]
  },
  {
   "cell_type": "code",
   "execution_count": 90,
   "metadata": {},
   "outputs": [],
   "source": [
    "def callcnt(f):\n",
    "    def counter(*args, **kw):\n",
    "        counter.calls += 1\n",
    "        return f(*args, **kw)\n",
    "    counter.calls = 0\n",
    "    return counter"
   ]
  },
  {
   "cell_type": "markdown",
   "metadata": {},
   "source": [
    "Questa volta non ci sono problemi con la ricorsione"
   ]
  },
  {
   "cell_type": "code",
   "execution_count": 91,
   "metadata": {},
   "outputs": [],
   "source": [
    "@callcnt\n",
    "def Fibonacci_rec(n):\n",
    "    if n == 1 or n == 2:\n",
    "        return 1\n",
    "    return Fibonacci_rec(n-2)+Fibonacci_rec(n-1)"
   ]
  },
  {
   "cell_type": "code",
   "execution_count": 94,
   "metadata": {},
   "outputs": [
    {
     "name": "stdout",
     "output_type": "stream",
     "text": [
      "Il numero C(n) di chiamate ricorsive (con n = 5) è 9\n",
      "Il valore di f(5) è 5\n",
      "Controllo, C(n) == 2*f(n)-1: True\n"
     ]
    }
   ],
   "source": [
    "n = 5\n",
    "Fibonacci_rec.calls = 0\n",
    "v = Fibonacci_rec(n)\n",
    "print(\"Il numero C(n) di chiamate ricorsive (con n = {}) è {}\".format(n,Fibonacci_rec.calls))\n",
    "print(\"Il valore di f({}) è {}\".format(n,v))\n",
    "print(\"Controllo, C(n) == 2*f(n)-1: {}\".format(Fibonacci_rec.calls==2*v-1))"
   ]
  },
  {
   "cell_type": "markdown",
   "metadata": {},
   "source": [
    "### Anche le classi possono essere utilizzate come decoratori"
   ]
  },
  {
   "cell_type": "markdown",
   "metadata": {},
   "source": [
    "### Digressione. \\__call\\__: un interessante \"metodo magico\""
   ]
  },
  {
   "cell_type": "code",
   "execution_count": 95,
   "metadata": {},
   "outputs": [],
   "source": [
    "from random import random"
   ]
  },
  {
   "cell_type": "code",
   "execution_count": 113,
   "metadata": {},
   "outputs": [
    {
     "data": {
      "text/plain": [
       "0.4726666929092227"
      ]
     },
     "execution_count": 113,
     "metadata": {},
     "output_type": "execute_result"
    }
   ],
   "source": [
    "random()"
   ]
  },
  {
   "cell_type": "code",
   "execution_count": 99,
   "metadata": {},
   "outputs": [],
   "source": [
    "class myrand:\n",
    "    '''Un semplice generatore pseudo-casuale, da non usare per scopi crittografici...'''\n",
    "    def __init__(self):\n",
    "        self._a = 16807\n",
    "        self._m = (1 << 31) - 1 #2^31 -1\n",
    "        self._d = 1.0/self._m\n",
    "        self._x = 1\n",
    "        for i in range(10000):  # Per rendere i numeri \"usati\" (apparentemente) indipendenti dal seme iniziale\n",
    "            self.__call__()\n",
    "    \n",
    "    def __call__(self):\n",
    "        self._x = (self._a*self._x)%self._m\n",
    "        return self._x*self._d"
   ]
  },
  {
   "cell_type": "code",
   "execution_count": 100,
   "metadata": {},
   "outputs": [],
   "source": [
    "r = myrand()"
   ]
  },
  {
   "cell_type": "code",
   "execution_count": 101,
   "metadata": {
    "scrolled": true
   },
   "outputs": [
    {
     "name": "stdout",
     "output_type": "stream",
     "text": [
      "0.7403424972390488\n",
      "0.9363510966935898\n",
      "0.2528821291648234\n",
      "0.18994487318673398\n",
      "0.40348364943800663\n",
      "0.34969610457760103\n",
      "0.34242963574008534\n",
      "0.21488788361423083\n",
      "0.6206599043778422\n",
      "0.43101287839515734\n"
     ]
    }
   ],
   "source": [
    "for _ in range(10):\n",
    "    print(r())"
   ]
  },
  {
   "cell_type": "markdown",
   "metadata": {},
   "source": [
    "E' evidente che un tale generatore (del quale tutte le possibili istanze si comporterebbero alla stessa maniera) può essere realizzato in molti altri modi. Tuttavia l'esempio illustra il punto. Il metodo \\__call\\__ può essere chiamato col nome stesso della classe, il che rende l'uso di comprensione immediata. L'esempio illustra come sua possibile realizzare semplicemente una sorta di \"funzione con stato\", mediante classi e metodo \\__call\\__"
   ]
  },
  {
   "cell_type": "markdown",
   "metadata": {},
   "source": [
    "Esempio: generazione di numeri distribuito con esponenziale negativa (di fondamentale utilità in esperimenti di simulazione)"
   ]
  },
  {
   "cell_type": "code",
   "execution_count": 114,
   "metadata": {},
   "outputs": [],
   "source": [
    "from math import log\n",
    "class negexp:\n",
    "    '''Utilizza un qualsiasi generatore uniforme e lo utilizza\n",
    "       per calcolare \"negative exponential deviate\". l si interpreta\n",
    "       come frequenza degli eventi (numero di eventi nell'unità di tempo)'''\n",
    "    def __init__(self, l):\n",
    "        self._lambda = l\n",
    "\n",
    "    def __call__(self, fn):\n",
    "        '''fn è il generatore uniforme'''\n",
    "        def decorated():\n",
    "            r = fn()\n",
    "            return -log(1.0-r)/self._lambda\n",
    "        return decorated"
   ]
  },
  {
   "cell_type": "code",
   "execution_count": 149,
   "metadata": {},
   "outputs": [],
   "source": [
    "@negexp(0.5)\n",
    "def schedule():\n",
    "    return random()"
   ]
  },
  {
   "cell_type": "code",
   "execution_count": 155,
   "metadata": {},
   "outputs": [
    {
     "data": {
      "text/plain": [
       "0.017254466644020715"
      ]
     },
     "execution_count": 155,
     "metadata": {},
     "output_type": "execute_result"
    }
   ],
   "source": [
    "schedule()"
   ]
  },
  {
   "cell_type": "code",
   "execution_count": null,
   "metadata": {},
   "outputs": [],
   "source": [
    "negexp(2).__call__(random)()"
   ]
  },
  {
   "cell_type": "code",
   "execution_count": 162,
   "metadata": {},
   "outputs": [
    {
     "name": "stdout",
     "output_type": "stream",
     "text": [
      "53\n"
     ]
    }
   ],
   "source": [
    "t = 0.0\n",
    "count = 0\n",
    "while t<100:\n",
    "    t += schedule()\n",
    "    count += 1\n",
    "print(count)"
   ]
  },
  {
   "cell_type": "code",
   "execution_count": null,
   "metadata": {},
   "outputs": [],
   "source": [
    "@negexp(10)\n",
    "def schedulefast():\n",
    "    return random()"
   ]
  },
  {
   "cell_type": "code",
   "execution_count": null,
   "metadata": {},
   "outputs": [],
   "source": [
    "t = 0.0\n",
    "count = 0\n",
    "while t<100:\n",
    "    t += schedulefast()\n",
    "    count += 1\n",
    "print(count)"
   ]
  },
  {
   "cell_type": "code",
   "execution_count": 1,
   "metadata": {},
   "outputs": [],
   "source": [
    "###### Progetto di un semplice simulatore con 1 coda e k serventi\n",
    "\n",
    "from math import log\n",
    "from random import random\n",
    "\n",
    "import pdb\n",
    "\n",
    "JOB_ARRIVAL = 0\n",
    "\n",
    "class negexp:\n",
    "    '''Utilizza un qualsiasi generatore uniforme e lo utilizza\n",
    "       per calcolare \"negative exponential deviate\". l si interpreta\n",
    "       come frequenza degli eventi (numero di eventi nell'unità di tempo)'''\n",
    "    def __init__(self, l):\n",
    "        self._lambda = l\n",
    "\n",
    "    def __call__(self, fn):\n",
    "        '''fn è il generatore uniforme'''\n",
    "        def decorated():\n",
    "            x = fn()\n",
    "            return -log(1.0-x)/self._lambda\n",
    "        return decorated\n",
    "\n",
    "class globalTime:\n",
    "    \n",
    "    def __init__(self, start = 0):\n",
    "        self.__time = start\n",
    "        \n",
    "    def advance(self, newTime):\n",
    "        if newTime > self.__time:\n",
    "            self.__time = newTime\n",
    "        \n",
    "    def __call__(self):\n",
    "        return self.__time\n",
    "    \n",
    "    @property\n",
    "    def time(self):\n",
    "        return self.__time\n",
    "\n",
    "class eventType:\n",
    "    '''Introduce \"costanti\" per identificare il tipo di evento'''\n",
    "    JOB_ARRIVAL = -1\n",
    "    JOB_COMPLETION = 1\n",
    "    \n",
    "    @classmethod\n",
    "    def __call__(cls, e):\n",
    "        if e == cls.JOB_ARRIVAL:\n",
    "            return cls.JOB_ARRIVAL\n",
    "        else:\n",
    "            return cls.JOB_COMPLETION\n",
    " \n",
    "class event(int):\n",
    "    '''Classe contenitore, dalla quale ereditano arrival e job. \n",
    "    1) arrival è la richiesta di un nuovo servizio (arrivo di un nuovo job) e,\n",
    "    come tale, è caratterizzata dal solo attributo time (che viene usato anche\n",
    "    come priorità per gestire l'ordine di accadimento degli eventi).\n",
    "    2) job descrive più in generale un \"oggetto\" di tipo job. A stretto rigore,\n",
    "    un job diviene anche un evento quando per esso è schedulato il tempo di fine\n",
    "    (tramite la chiamata di inService). Se quindi si dovesse esegure un \n",
    "    confronto del tipo j<a, volto a determinare se il job j precede l'arrivo a,\n",
    "    si avrebbe un errore se j non è già stato schedulato per il servizio (e dunque\n",
    "    non se ne conosce il tempo di fine).\n",
    "    La classe eredita da int e dunque gli eventi sono rappresentati come numeri interi.\n",
    "\n",
    "    '''\n",
    "    def __new__(cls, t):\n",
    "        e = super().__new__(cls,t)\n",
    "        return e\n",
    "        \n",
    "    def __lt__(self, other):\n",
    "        return self.time < other.time\n",
    "    \n",
    "class arrival(event):\n",
    "    '''Classe che rappresenta gli eventi di arrivo di richieste di servizio'''\n",
    "    def __new__(cls, time):\n",
    "        e = super().__new__(cls, eventType.JOB_ARRIVAL)\n",
    "        e.__priority = time\n",
    "        return e\n",
    "    \n",
    "    @property\n",
    "    def time(self):\n",
    "        return self.__priority\n",
    "\n",
    "class job(event):\n",
    "    '''Classe che definisce i job. Questi sono identificati semplicemente da \n",
    "    numeri interi (ereditano da int via event) con alcune proprietà utilizzate \n",
    "    per la gestione e per il calcolo delle statistiche:\n",
    "    1) tempo di arrivo nel sistema\n",
    "    2) tempo di inizio servizio\n",
    "    3) tempo di fine servizio\n",
    "    4) identificazione del server\n",
    "    Si noto che il sistema è senza pre-emption (i job non vengono interrotti)\n",
    "    '''\n",
    "    \n",
    "    __jobCnt = 1  # Contatore \"automatico\" per attribuire un id (int) ai job\n",
    "    \n",
    "    def __new__(cls, arrivalTime):\n",
    "        j = super().__new__(cls, job.__jobCnt) # chiamata del costruttore della classe parent (int)\n",
    "        j.__arrivalTime = arrivalTime          # tempo di arrivo del job\n",
    "        job.__jobCnt += 1                      # incremento del contatore\n",
    "        return j\n",
    "    \n",
    "    def __str__(self):\n",
    "        j = super().__str__()\n",
    "        return \"job {}\\n\\tarrival time: {}\\n\\tserver: {}\\n\\tservice time: {}\\n\\tend time: {}\".\\\n",
    "                format(j, self.arrivalTime, self.server.server, self.serviceTime, self.endTime)\n",
    "        '''        \n",
    "        return \"job {}\\n\\tarrival time: {}\\n\"+\\\n",
    "               \"\\tserver: {}\\n\\tservice time: {}\\n\"+\\\n",
    "               \"\\tend time: {}\".format(j, self.arrivalTime, self.server,\\\n",
    "                                self.serviceTime, self.endTime)\n",
    "        '''\n",
    "        \n",
    "    @classmethod\n",
    "    def resetCounter(cls):\n",
    "        cls.__jobCnt = 1\n",
    "\n",
    "    def inService(self, time, server, duration):\n",
    "        '''Memorizza i tempi di inizio e fine servizio e il numero del servente'''\n",
    "        self.__start = time\n",
    "        self.__priority = time+duration\n",
    "        self.__server = server\n",
    "        \n",
    "    @property\n",
    "    def server(self):\n",
    "        return self.__server\n",
    "    \n",
    "    @property\n",
    "    def arrivalTime(self):\n",
    "        return self.__arrivalTime\n",
    "    \n",
    "    @property\n",
    "    def serviceTime(self):\n",
    "        try:\n",
    "            t = self.__start\n",
    "        except:\n",
    "            print(\"Il job è ancora in coda\")\n",
    "            return None\n",
    "        return t\n",
    "    \n",
    "    @property\n",
    "    def endTime(self):\n",
    "        try:\n",
    "            t = self.__priority\n",
    "        except:\n",
    "            print(\"Il job non è ancora completato\")\n",
    "            return None\n",
    "        return t\n",
    "    \n",
    "    @property\n",
    "    def time(self):\n",
    "        return self.endTime\n",
    "\n",
    "class EmptyQueue(Exception):\n",
    "    pass\n",
    "\n",
    "class queue:\n",
    "    '''Classe che implementa una coda semplice'''\n",
    "    def __init__(self):\n",
    "        self.__Q = []\n",
    "    \n",
    "    def enqueue(self, object):\n",
    "        self.__Q.insert(0,object)\n",
    "        \n",
    "    def dequeue(self):\n",
    "        if self.is_empty():\n",
    "            raise EmptyQueue\n",
    "        return self.__Q.pop()\n",
    "    \n",
    "    def is_empty(self):\n",
    "        return self.__Q == []\n",
    "\n",
    "class priority_queue:\n",
    "    '''Implementa una coda con priorità (min-based) di oggetti arbitrari, che\n",
    "       devono avere la sola proprietà di essere confrontabili con l'operatore <.\n",
    "       L'attuale implementazione usa una semplice lista non ordinata. Questo\n",
    "       rende efficiente l'inserzione ma non la ricerca e l'estrazione\n",
    "       dell'oggetto con minimo valore di priorità'''\n",
    "       \n",
    "    def __init__(self, L=[]):\n",
    "        if not L:\n",
    "            self.__list = []\n",
    "        else:\n",
    "            self.__list = L\n",
    "\n",
    "    def insert(self, obj):\n",
    "        self.__list.append(obj)\n",
    "\n",
    "    def is_empty(self):\n",
    "        return self.__list == []\n",
    "\n",
    "    def size(self):\n",
    "        return len(self.__list)\n",
    "    \n",
    "    def minimum(self):\n",
    "        if self.is_empty():\n",
    "            raise EmptyQueue\n",
    "        minindex = 0\n",
    "        for i in range(1, len(self.__list)):\n",
    "            if self.__list[i] < self.__list[minindex]:\n",
    "                minindex = i\n",
    "        return self.__list[minindex]\n",
    "        \n",
    "    def delete(self):\n",
    "        x = self.minimum()\n",
    "        self.__list.remove(x)\n",
    "        return x\n",
    "\n",
    "class server:\n",
    "    '''Classe che implementa i server'''\n",
    "    \n",
    "    def __init__(self, speed, system, time, num):\n",
    "        @negexp(speed)\n",
    "        def JobService():\n",
    "            return random()\n",
    "        \n",
    "        self.time = time\n",
    "        self.__system = system\n",
    "        self.__scheduler = JobService\n",
    "        self.__busy = False\n",
    "        self.__id = num\n",
    "        \n",
    "    def runJob(self, job):\n",
    "        if not self.__busy:\n",
    "            self.__busy = True\n",
    "            self.__currentJob = job\n",
    "            duration = self.__scheduler()\n",
    "            job.inService(self.time(), self, duration)\n",
    "    \n",
    "    def endJob(self):\n",
    "        self.__busy = False\n",
    "        self.__system.jobEnded(self, self.__currentJob)\n",
    "          \n",
    "    @property\n",
    "    def busy(self):\n",
    "        return self.__busy\n",
    "    \n",
    "    @property\n",
    "    def server(self):\n",
    "        return self.__id\n",
    "\n",
    "class system:\n",
    "    '''Classe che implementa il controllo dei k server e della coda dei job\n",
    "    in attesa di andare in esecuzione'''\n",
    "    def __init__(self, k, speed, pQ, time):\n",
    "        self.__k = k\n",
    "        self.__servers = [server(speed, self, time, i+1) for i in range(k)]\n",
    "        self.__Q = queue()\n",
    "        self.__pQ = pQ\n",
    "        self.__log = []\n",
    "        self.time = time\n",
    "    \n",
    "    def jobEnters(self, job):\n",
    "        s = self.available()\n",
    "        if s:\n",
    "            s.runJob(job)\n",
    "            self.__pQ.insert(job)\n",
    "        else:\n",
    "            self.__Q.enqueue(job)\n",
    "    \n",
    "    def available(self):\n",
    "        for s in self.__servers:\n",
    "            if not s.busy:\n",
    "                return s\n",
    "        return None\n",
    "\n",
    "    def jobEnded(self, server, job):\n",
    "        self.__log.append(job)\n",
    "        if not self.__Q.is_empty():\n",
    "            self.jobEnters(self.__Q.dequeue())\n",
    "\n",
    "    @property\n",
    "    def log(self):\n",
    "        return self.__log\n",
    "    \n",
    "def sim(numservers=1, speed=1, arrivalRate=1, simLen=2):\n",
    "    '''Routine di simulazione. Si tratta di un simulatore a eventi discreti.\n",
    "    il tempo viene fatto avanzare attraverso gli istanti di accadimento\n",
    "    dei due eventi fondamentali, cioè l'arrivo di una nuova richiesta di\n",
    "    servizio (job), e il completamento di un job. Il tempo di inizio servizio\n",
    "    di un job j non è un evento rilevante, perché esso coincide: (1) con il tempo\n",
    "    di arrivo di j, se almeno un server è disponibile, oppure (2) con il tempo di \n",
    "    fine servizio di un job, se j stava aspettando in coda.\n",
    "    Il tempo viene gestito da un oggetto della classe globalTime  (piuttosto\n",
    "    che da una semplice variabile globale)\n",
    "    '''\n",
    "    typeof = eventType()\n",
    "    job.resetCounter()\n",
    "    time = globalTime()\n",
    "    \n",
    "    @negexp(arrivalRate)\n",
    "    def JobArrival():\n",
    "        return random()\n",
    "    \n",
    "    Q = priority_queue()\n",
    "    S = system(numservers, speed, Q, time)\n",
    "    Q.insert(arrival(time()))\n",
    "    \n",
    "    while time()<simLen:\n",
    "        e = Q.delete()\n",
    "        time.advance(e.time)\n",
    "        if typeof(e) == eventType.JOB_COMPLETION:\n",
    "            e.server.endJob()\n",
    "        else:  # typeof(e) == eventType.JOB_ARRIVAL\n",
    "            j = job(time())\n",
    "            S.jobEnters(j)\n",
    "            nextArrival = JobArrival()\n",
    "            #print(job._job__jobCnt-1, time()+nextArrival)\n",
    "            Q.insert(arrival(time()+nextArrival))\n",
    "    \n",
    "    log = sorted(S.log, key = lambda j: j.arrivalTime)\n",
    "    \n",
    "    for j in log:\n",
    "        print(j)"
   ]
  },
  {
   "cell_type": "code",
   "execution_count": 2,
   "metadata": {},
   "outputs": [
    {
     "name": "stdout",
     "output_type": "stream",
     "text": [
      "job 1\n",
      "\tarrival time: 0\n",
      "\tserver: 1\n",
      "\tservice time: 0\n",
      "\tend time: 1.7796894782504404\n",
      "job 2\n",
      "\tarrival time: 1.1448952511279955\n",
      "\tserver: 1\n",
      "\tservice time: 1.7796894782504404\n",
      "\tend time: 2.3503017171045584\n",
      "job 3\n",
      "\tarrival time: 1.3018581358611956\n",
      "\tserver: 1\n",
      "\tservice time: 2.3503017171045584\n",
      "\tend time: 5.226607273053581\n"
     ]
    }
   ],
   "source": [
    "sim(numservers=1, speed=1, arrivalRate=1, simLen=5)"
   ]
  },
  {
   "cell_type": "code",
   "execution_count": 3,
   "metadata": {},
   "outputs": [
    {
     "name": "stdout",
     "output_type": "stream",
     "text": [
      "job 1\n",
      "\tarrival time: 0\n",
      "\tserver: 1\n",
      "\tservice time: 0\n",
      "\tend time: 0.8048289927414366\n",
      "job 2\n",
      "\tarrival time: 0.23919701555139075\n",
      "\tserver: 2\n",
      "\tservice time: 0.23919701555139075\n",
      "\tend time: 1.7725922002114867\n",
      "job 3\n",
      "\tarrival time: 0.5043917196706661\n",
      "\tserver: 1\n",
      "\tservice time: 0.8048289927414366\n",
      "\tend time: 1.0144444779014998\n",
      "job 4\n",
      "\tarrival time: 0.7052062548727772\n",
      "\tserver: 1\n",
      "\tservice time: 1.0144444779014998\n",
      "\tend time: 1.6749352117844203\n",
      "job 5\n",
      "\tarrival time: 0.9324236526451409\n",
      "\tserver: 1\n",
      "\tservice time: 1.6749352117844203\n",
      "\tend time: 1.7355358691740599\n",
      "job 6\n",
      "\tarrival time: 1.6939925617716207\n",
      "\tserver: 1\n",
      "\tservice time: 1.7355358691740599\n",
      "\tend time: 1.9332886902759354\n",
      "job 7\n",
      "\tarrival time: 1.7969828126696477\n",
      "\tserver: 2\n",
      "\tservice time: 1.7969828126696477\n",
      "\tend time: 2.15049075611093\n",
      "job 8\n",
      "\tarrival time: 1.8904548344776246\n",
      "\tserver: 1\n",
      "\tservice time: 1.9332886902759354\n",
      "\tend time: 2.390922917503692\n",
      "job 9\n",
      "\tarrival time: 2.369752031566729\n",
      "\tserver: 2\n",
      "\tservice time: 2.369752031566729\n",
      "\tend time: 2.416527887062912\n",
      "job 10\n",
      "\tarrival time: 2.8394322350285672\n",
      "\tserver: 1\n",
      "\tservice time: 2.8394322350285672\n",
      "\tend time: 3.094533333681603\n",
      "job 11\n",
      "\tarrival time: 3.7482898147577335\n",
      "\tserver: 1\n",
      "\tservice time: 3.7482898147577335\n",
      "\tend time: 4.079256797880705\n",
      "job 12\n",
      "\tarrival time: 4.2797654330321\n",
      "\tserver: 1\n",
      "\tservice time: 4.2797654330321\n",
      "\tend time: 4.5499426292803635\n",
      "job 13\n",
      "\tarrival time: 4.309340750804149\n",
      "\tserver: 2\n",
      "\tservice time: 4.309340750804149\n",
      "\tend time: 4.456791557502398\n"
     ]
    }
   ],
   "source": [
    "sim(numservers=2, speed=1, arrivalRate=2, simLen=5)"
   ]
  }
 ],
 "metadata": {
  "kernelspec": {
   "display_name": "Python 3",
   "language": "python",
   "name": "python3"
  },
  "language_info": {
   "codemirror_mode": {
    "name": "ipython",
    "version": 3
   },
   "file_extension": ".py",
   "mimetype": "text/x-python",
   "name": "python",
   "nbconvert_exporter": "python",
   "pygments_lexer": "ipython3",
   "version": "3.6.7"
  }
 },
 "nbformat": 4,
 "nbformat_minor": 2
}
