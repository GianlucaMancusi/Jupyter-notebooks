{
 "cells": [
  {
   "cell_type": "markdown",
   "metadata": {},
   "source": [
    "### Un ultimo uso dei decoratori: caching (o ***memoization***) di valori calcolati"
   ]
  },
  {
   "cell_type": "code",
   "execution_count": 1,
   "metadata": {},
   "outputs": [],
   "source": [
    "def fibonacci(n):\n",
    "    assert(type(n)==int and n>=0)\n",
    "    if n<=1:\n",
    "        return n\n",
    "    return fibonacci(n-2)+fibonacci(n-1)"
   ]
  },
  {
   "cell_type": "code",
   "execution_count": null,
   "metadata": {},
   "outputs": [],
   "source": [
    "fibonacci(40)"
   ]
  },
  {
   "cell_type": "code",
   "execution_count": null,
   "metadata": {},
   "outputs": [],
   "source": [
    "#fibonacci(100) non provateci!"
   ]
  },
  {
   "cell_type": "code",
   "execution_count": 9,
   "metadata": {},
   "outputs": [],
   "source": [
    "def memoize(f):\n",
    "    cache = {}\n",
    "    def helperfun(n):\n",
    "        if not cache.get(n,False):\n",
    "            cache[n] = f(n)\n",
    "        return cache[n]\n",
    "    return helperfun"
   ]
  },
  {
   "cell_type": "code",
   "execution_count": 10,
   "metadata": {},
   "outputs": [],
   "source": [
    "@memoize\n",
    "def fibonacci(n):\n",
    "    assert(type(n)==int and n>=0)\n",
    "    if n<=1:\n",
    "        return n\n",
    "    return fibonacci(n-2)+fibonacci(n-1)"
   ]
  },
  {
   "cell_type": "code",
   "execution_count": 11,
   "metadata": {},
   "outputs": [
    {
     "data": {
      "text/plain": [
       "354224848179261915075"
      ]
     },
     "execution_count": 11,
     "metadata": {},
     "output_type": "execute_result"
    }
   ],
   "source": [
    "fibonacci(100)"
   ]
  },
  {
   "cell_type": "markdown",
   "metadata": {},
   "source": [
    "## Classi astratte e loro uso"
   ]
  },
  {
   "cell_type": "code",
   "execution_count": 12,
   "metadata": {},
   "outputs": [],
   "source": [
    "from abc import ABC, abstractmethod"
   ]
  },
  {
   "cell_type": "code",
   "execution_count": 13,
   "metadata": {},
   "outputs": [],
   "source": [
    "class classe_astratta(ABC):\n",
    "    def __init__(self, value):\n",
    "        self.cached_value = value\n",
    "    \n",
    "    @abstractmethod\n",
    "    def un_metodo_astratto(self):\n",
    "        pass"
   ]
  },
  {
   "cell_type": "markdown",
   "metadata": {},
   "source": [
    "### Una classe astratta non può essere istanziata"
   ]
  },
  {
   "cell_type": "code",
   "execution_count": 14,
   "metadata": {},
   "outputs": [
    {
     "ename": "TypeError",
     "evalue": "Can't instantiate abstract class classe_astratta with abstract methods un_metodo_astratto",
     "output_type": "error",
     "traceback": [
      "\u001b[0;31m---------------------------------------------------------------------------\u001b[0m",
      "\u001b[0;31mTypeError\u001b[0m                                 Traceback (most recent call last)",
      "\u001b[0;32m<ipython-input-14-a3e73f2105eb>\u001b[0m in \u001b[0;36m<module>\u001b[0;34m()\u001b[0m\n\u001b[0;32m----> 1\u001b[0;31m \u001b[0mA\u001b[0m \u001b[0;34m=\u001b[0m \u001b[0mclasse_astratta\u001b[0m\u001b[0;34m(\u001b[0m\u001b[0;36m10\u001b[0m\u001b[0;34m)\u001b[0m\u001b[0;34m\u001b[0m\u001b[0;34m\u001b[0m\u001b[0m\n\u001b[0m",
      "\u001b[0;31mTypeError\u001b[0m: Can't instantiate abstract class classe_astratta with abstract methods un_metodo_astratto"
     ]
    }
   ],
   "source": [
    "A = classe_astratta(10)"
   ]
  },
  {
   "cell_type": "markdown",
   "metadata": {},
   "source": [
    "### Una sottoclasse di una classe astratta deve implementare i metodi astratti"
   ]
  },
  {
   "cell_type": "code",
   "execution_count": 21,
   "metadata": {},
   "outputs": [],
   "source": [
    "class sottoclasse(classe_astratta):\n",
    "    def un_metodo_astratto(self):\n",
    "        pass"
   ]
  },
  {
   "cell_type": "code",
   "execution_count": 22,
   "metadata": {},
   "outputs": [],
   "source": [
    "S = sottoclasse(10)"
   ]
  },
  {
   "cell_type": "code",
   "execution_count": 23,
   "metadata": {},
   "outputs": [],
   "source": [
    "S.un_metodo_astratto()"
   ]
  },
  {
   "cell_type": "code",
   "execution_count": 24,
   "metadata": {},
   "outputs": [],
   "source": [
    "class sottoclasse(classe_astratta):\n",
    "    def un_metodo_astratto(self):\n",
    "        return self.cached_value**2"
   ]
  },
  {
   "cell_type": "code",
   "execution_count": 25,
   "metadata": {},
   "outputs": [],
   "source": [
    "S = sottoclasse(10)"
   ]
  },
  {
   "cell_type": "code",
   "execution_count": 26,
   "metadata": {},
   "outputs": [
    {
     "data": {
      "text/plain": [
       "100"
      ]
     },
     "execution_count": 26,
     "metadata": {},
     "output_type": "execute_result"
    }
   ],
   "source": [
    "S.un_metodo_astratto()"
   ]
  },
  {
   "cell_type": "markdown",
   "metadata": {},
   "source": [
    "### Una sottoclasse di una classe astratta deve implementare ***tutti*** i metodi astratti"
   ]
  },
  {
   "cell_type": "code",
   "execution_count": 27,
   "metadata": {},
   "outputs": [],
   "source": [
    "class classe_astratta(ABC):\n",
    "    def __init__(self, value):\n",
    "        self.cached_value = value\n",
    "    \n",
    "    @abstractmethod\n",
    "    def un_metodo_astratto(self):\n",
    "        pass\n",
    "    \n",
    "    @abstractmethod\n",
    "    def un_secondo_metodo_astratto(self):\n",
    "        pass"
   ]
  },
  {
   "cell_type": "code",
   "execution_count": 28,
   "metadata": {},
   "outputs": [],
   "source": [
    "class sottoclasse(classe_astratta):\n",
    "    def un_metodo_astratto(self):\n",
    "        return self.cached_value**2"
   ]
  },
  {
   "cell_type": "code",
   "execution_count": 29,
   "metadata": {},
   "outputs": [
    {
     "ename": "TypeError",
     "evalue": "Can't instantiate abstract class sottoclasse with abstract methods un_secondo_metodo_astratto",
     "output_type": "error",
     "traceback": [
      "\u001b[0;31m---------------------------------------------------------------------------\u001b[0m",
      "\u001b[0;31mTypeError\u001b[0m                                 Traceback (most recent call last)",
      "\u001b[0;32m<ipython-input-29-70d98f874609>\u001b[0m in \u001b[0;36m<module>\u001b[0;34m()\u001b[0m\n\u001b[0;32m----> 1\u001b[0;31m \u001b[0mS\u001b[0m \u001b[0;34m=\u001b[0m \u001b[0msottoclasse\u001b[0m\u001b[0;34m(\u001b[0m\u001b[0;36m10\u001b[0m\u001b[0;34m)\u001b[0m\u001b[0;34m\u001b[0m\u001b[0;34m\u001b[0m\u001b[0m\n\u001b[0m",
      "\u001b[0;31mTypeError\u001b[0m: Can't instantiate abstract class sottoclasse with abstract methods un_secondo_metodo_astratto"
     ]
    }
   ],
   "source": [
    "S = sottoclasse(10)"
   ]
  },
  {
   "cell_type": "markdown",
   "metadata": {},
   "source": [
    "### I metodi di una classe astratta devono essere implementati da \"qualche\" sottoclasse, non necessariamente dalla stessa"
   ]
  },
  {
   "cell_type": "code",
   "execution_count": 30,
   "metadata": {},
   "outputs": [],
   "source": [
    "class classe_astratta(ABC):\n",
    "    def __init__(self, value):\n",
    "        self.cached_value = value\n",
    "    \n",
    "    @abstractmethod\n",
    "    def un_metodo_astratto(self):\n",
    "        pass\n",
    "    \n",
    "    @abstractmethod\n",
    "    def un_secondo_metodo_astratto(self):\n",
    "        pass"
   ]
  },
  {
   "cell_type": "code",
   "execution_count": 31,
   "metadata": {},
   "outputs": [],
   "source": [
    "class sottoclasse(classe_astratta):\n",
    "    def un_metodo_astratto(self):\n",
    "        return self.cached_value**2"
   ]
  },
  {
   "cell_type": "code",
   "execution_count": 32,
   "metadata": {},
   "outputs": [],
   "source": [
    "class sotto_sottoclasse(sottoclasse):\n",
    "    def un_secondo_metodo_astratto(self):\n",
    "        pass"
   ]
  },
  {
   "cell_type": "code",
   "execution_count": 33,
   "metadata": {},
   "outputs": [],
   "source": [
    "SS = sotto_sottoclasse(20)"
   ]
  },
  {
   "cell_type": "code",
   "execution_count": 34,
   "metadata": {},
   "outputs": [],
   "source": [
    "SS.un_secondo_metodo_astratto()"
   ]
  },
  {
   "cell_type": "markdown",
   "metadata": {},
   "source": [
    "## A che cosa serve tutto ciò?"
   ]
  },
  {
   "cell_type": "markdown",
   "metadata": {},
   "source": [
    "Un caso tipico si ha quando le sottoclassi (che estendono la classe astratta) hanno più attributi e metodi comuni."
   ]
  },
  {
   "cell_type": "code",
   "execution_count": 80,
   "metadata": {},
   "outputs": [],
   "source": [
    "from abc import ABC, abstractmethod\n",
    "import pygame\n",
    "import math\n",
    "\n",
    "class oggettoGrafico(ABC):\n",
    "    \n",
    "    black = (0,0,0)\n",
    "    white = (255,255,255)\n",
    "    red = (255,0,0)\n",
    "    green = (0,255,0)\n",
    "    blue = (0,0,255)\n",
    "    \n",
    "    def __init__(self, width, height, color):\n",
    "        self.width = width\n",
    "        self.height = height\n",
    "        self.color = color\n",
    "        self.display = pygame.display.set_mode((width,height))\n",
    "        \n",
    "    def clean(self):\n",
    "        self.display.fill(oggettoGrafico.white)\n",
    "    \n",
    "    @staticmethod\n",
    "    def ruotaO(x, y, theta):\n",
    "        xp = x*math.cos(theta)-y*math.sin(theta)\n",
    "        yp = x*math.sin(theta)+y*math.cos(theta)\n",
    "        return xp,yp\n",
    "    \n",
    "    @staticmethod\n",
    "    def quit():\n",
    "        pygame.quit()\n",
    "        \n",
    "    @abstractmethod\n",
    "    def sposta(self, dx, dy):\n",
    "        pass\n",
    "    \n",
    "    @abstractmethod\n",
    "    def ruota(self, theta):\n",
    "        pass"
   ]
  },
  {
   "cell_type": "code",
   "execution_count": 81,
   "metadata": {},
   "outputs": [],
   "source": [
    "class line(oggettoGrafico):\n",
    "    \n",
    "    def __init__(self, p, q, width=800, \\\n",
    "                 height=600, color=oggettoGrafico.black):\n",
    "        super().__init__(width, height, color)\n",
    "        self.x0 = p[0]\n",
    "        self.y0 = p[1]\n",
    "        self.x1 = q[0]\n",
    "        self.y1 = q[1]\n",
    "        self.disegna()\n",
    "    \n",
    "    def disegna(self):\n",
    "        self.clean()\n",
    "        pygame.draw.line(self.display, self.color, \\\n",
    "                         (self.x0,self.height-self.y0), (self.x1,self.height-self.y1), 3)\n",
    "        pygame.display.update()\n",
    "    \n",
    "    def sposta(self, dx, dy, disegna=True):\n",
    "        self.x0 += dx\n",
    "        self.y0 += dy\n",
    "        self.x1 += dx\n",
    "        self.y1 += dy\n",
    "        if disegna:\n",
    "            self.disegna()\n",
    "        \n",
    "    def ruota(self, theta):\n",
    "        cx = (self.x0+self.x1)/2\n",
    "        cy = (self.y0+self.y1)/2\n",
    "        self.sposta(-cx,-cy, disegna=False)\n",
    "        self.x0,self.y0 = oggettoGrafico.ruotaO(self.x0,self.y0, theta)\n",
    "        self.x1,self.y1 = oggettoGrafico.ruotaO(self.x1,self.y1, theta)\n",
    "        self.sposta(cx,cy)"
   ]
  },
  {
   "cell_type": "code",
   "execution_count": 57,
   "metadata": {},
   "outputs": [],
   "source": [
    "l = line((0,0),(100,200))"
   ]
  },
  {
   "cell_type": "code",
   "execution_count": 38,
   "metadata": {},
   "outputs": [],
   "source": [
    "l.sposta(200,150)"
   ]
  },
  {
   "cell_type": "code",
   "execution_count": 51,
   "metadata": {},
   "outputs": [],
   "source": [
    "l.ruota(math.pi/2)"
   ]
  },
  {
   "cell_type": "code",
   "execution_count": 82,
   "metadata": {},
   "outputs": [],
   "source": [
    "class cerchio(oggettoGrafico):\n",
    "    \n",
    "    def __init__(self, c, r, width=800, \\\n",
    "                 height=600, color=oggettoGrafico.black):\n",
    "        super().__init__(width, height, color)\n",
    "        self.x0 = c[0]\n",
    "        self.y0 = c[1]\n",
    "        self.r = r\n",
    "        self.disegna()\n",
    "    \n",
    "    def disegna(self):\n",
    "        self.clean()\n",
    "        pygame.draw.circle(self.display, self.color, \\\n",
    "                           (self.x0,self.height-self.y0), self.r)\n",
    "        pygame.display.update()\n",
    "    \n",
    "    def sposta(self, dx, dy):\n",
    "        self.x0 += dx\n",
    "        self.y0 += dy\n",
    "        self.disegna()\n",
    "        \n",
    "    def ruota(self, theta):\n",
    "        pass"
   ]
  },
  {
   "cell_type": "code",
   "execution_count": 53,
   "metadata": {},
   "outputs": [],
   "source": [
    "c = cerchio((200,200), 50)"
   ]
  },
  {
   "cell_type": "code",
   "execution_count": 54,
   "metadata": {},
   "outputs": [],
   "source": [
    "c.sposta(100,300)"
   ]
  },
  {
   "cell_type": "code",
   "execution_count": 55,
   "metadata": {},
   "outputs": [],
   "source": [
    "c.ruota(1)"
   ]
  },
  {
   "cell_type": "code",
   "execution_count": 273,
   "metadata": {},
   "outputs": [],
   "source": [
    "oggettoGrafico.quit()"
   ]
  },
  {
   "cell_type": "code",
   "execution_count": 83,
   "metadata": {},
   "outputs": [],
   "source": [
    "class rettangolo(oggettoGrafico):\n",
    "    \n",
    "    def __init__(self, p, w, h, width=800, \\\n",
    "                 height=600, color=oggettoGrafico.black):\n",
    "        super().__init__(width, height, color)\n",
    "        self.x0 = p[0]\n",
    "        self.y0 = p[1]\n",
    "        self.w = w\n",
    "        self.h = h\n",
    "        self.disegna()\n",
    "    \n",
    "    def disegna(self):\n",
    "        self.clean()\n",
    "        pygame.draw.rect(self.display, self.color, \\\n",
    "                         (self.x0,self.height-self.y0-self.h, \\\n",
    "                          self.w,self.h))\n",
    "        pygame.display.update()\n",
    "    \n",
    "    def sposta(self, dx, dy, disegna=True):\n",
    "        self.x0 += dx\n",
    "        self.y0 += dy\n",
    "        if disegna:\n",
    "            self.disegna()\n",
    "        \n",
    "    def ruota(self, theta):\n",
    "        assert theta in {math.pi/2, -math.pi/2}\n",
    "        cx = self.x0+self.w/2\n",
    "        cy = self.y0+self.h/2\n",
    "        self.sposta(-cx,-cy, disegna=False)\n",
    "        self.x0,self.y0 = oggettoGrafico.ruotaO(self.x0,self.y0, theta)\n",
    "        if theta > 0:\n",
    "            self.x0 -= self.h\n",
    "        else:\n",
    "            self.y0 -= self.w\n",
    "        self.w, self.h = self.h, self.w\n",
    "        self.sposta(cx,cy)"
   ]
  },
  {
   "cell_type": "code",
   "execution_count": 113,
   "metadata": {},
   "outputs": [],
   "source": [
    "r = rettangolo((1,1), 150, 70, color=(124,110,87))"
   ]
  },
  {
   "cell_type": "code",
   "execution_count": 116,
   "metadata": {},
   "outputs": [],
   "source": [
    "r.sposta(100,100)"
   ]
  },
  {
   "cell_type": "code",
   "execution_count": 135,
   "metadata": {},
   "outputs": [],
   "source": [
    "r.ruota(math.pi/2)"
   ]
  }
 ],
 "metadata": {
  "kernelspec": {
   "display_name": "Python 3",
   "language": "python",
   "name": "python3"
  },
  "language_info": {
   "codemirror_mode": {
    "name": "ipython",
    "version": 3
   },
   "file_extension": ".py",
   "mimetype": "text/x-python",
   "name": "python",
   "nbconvert_exporter": "python",
   "pygments_lexer": "ipython3",
   "version": "3.6.7"
  }
 },
 "nbformat": 4,
 "nbformat_minor": 2
}
